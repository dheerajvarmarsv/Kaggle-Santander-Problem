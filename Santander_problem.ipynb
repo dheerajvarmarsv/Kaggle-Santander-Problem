{
  "nbformat": 4,
  "nbformat_minor": 0,
  "metadata": {
    "colab": {
      "provenance": []
    },
    "kernelspec": {
      "name": "python3",
      "display_name": "Python 3"
    },
    "language_info": {
      "name": "python"
    }
  },
  "cells": [
    {
      "cell_type": "markdown",
      "source": [
        "Mounting Google Drive"
      ],
      "metadata": {
        "id": "K2llDpNNSRPx"
      }
    },
    {
      "cell_type": "code",
      "execution_count": null,
      "metadata": {
        "id": "aXtopYRrRmzw",
        "colab": {
          "base_uri": "https://localhost:8080/"
        },
        "outputId": "a86047fd-6b52-4bab-93c6-e1c86b0edf2c"
      },
      "outputs": [
        {
          "output_type": "stream",
          "name": "stdout",
          "text": [
            "Drive already mounted at /gdrive; to attempt to forcibly remount, call drive.mount(\"/gdrive\", force_remount=True).\n",
            "/gdrive\n"
          ]
        }
      ],
      "source": [
        "#Import Python Packages\n",
        "#from google.colab import drive\n",
        "#drive.mount('/content/drive/')\n",
        "\n",
        "from google.colab import drive\n",
        "drive.mount('/gdrive')\n",
        "%cd /gdrive"
      ]
    },
    {
      "cell_type": "markdown",
      "source": [
        "Importing Necessary Modules"
      ],
      "metadata": {
        "id": "PJQx6Vc-_3xV"
      }
    },
    {
      "cell_type": "code",
      "source": [
        "import pandas as pd\n",
        "import numpy as np\n",
        "from sklearn.tree import DecisionTreeClassifier\n",
        "from sklearn.model_selection import train_test_split\n",
        "from sklearn import tree, metrics\n",
        "import imblearn\n",
        "from imblearn.under_sampling import RandomUnderSampler\n",
        "from collections import Counter\n",
        "from sklearn.feature_selection import VarianceThreshold\n",
        "from imblearn.over_sampling import SMOTE\n",
        "from sklearn.feature_selection import SelectKBest\n",
        "!pip install sklearn-genetic\n",
        "!pip install sklearn-genetic-opt\n",
        "from sklearn.feature_selection import chi2, f_classif\n",
        "from sklearn.neural_network import MLPClassifier\n",
        "import sklearn_genetic\n",
        "from sklearn_genetic import GASearchCV\n",
        "from sklearn_genetic import ExponentialAdapter\n",
        "from sklearn_genetic.space import Continuous, Categorical, Integer\n",
        "from sklearn.ensemble import RandomForestClassifier\n",
        "from sklearn.model_selection import train_test_split, StratifiedKFold\n",
        "from sklearn.metrics import accuracy_score\n",
        "from imblearn.under_sampling import RandomUnderSampler\n",
        "\n",
        "\n",
        "import matplotlib.pyplot as plt\n",
        "from sklearn.ensemble import RandomForestClassifier\n",
        "from sklearn.datasets import load_digits\n",
        "from sklearn.metrics import accuracy_score"
      ],
      "metadata": {
        "id": "i0LnQBS9SaKA",
        "colab": {
          "base_uri": "https://localhost:8080/"
        },
        "outputId": "fc034bc3-57f0-41be-e0ad-331d8e087d1b"
      },
      "execution_count": null,
      "outputs": [
        {
          "output_type": "stream",
          "name": "stdout",
          "text": [
            "Looking in indexes: https://pypi.org/simple, https://us-python.pkg.dev/colab-wheels/public/simple/\n",
            "Requirement already satisfied: sklearn-genetic in /usr/local/lib/python3.7/dist-packages (0.5.1)\n",
            "Requirement already satisfied: multiprocess in /usr/local/lib/python3.7/dist-packages (from sklearn-genetic) (0.70.14)\n",
            "Requirement already satisfied: scikit-learn>=0.23 in /usr/local/lib/python3.7/dist-packages (from sklearn-genetic) (1.0.2)\n",
            "Requirement already satisfied: deap>=1.0.2 in /usr/local/lib/python3.7/dist-packages (from sklearn-genetic) (1.3.3)\n",
            "Requirement already satisfied: numpy in /usr/local/lib/python3.7/dist-packages (from sklearn-genetic) (1.21.6)\n",
            "Requirement already satisfied: joblib>=0.11 in /usr/local/lib/python3.7/dist-packages (from scikit-learn>=0.23->sklearn-genetic) (1.2.0)\n",
            "Requirement already satisfied: threadpoolctl>=2.0.0 in /usr/local/lib/python3.7/dist-packages (from scikit-learn>=0.23->sklearn-genetic) (3.1.0)\n",
            "Requirement already satisfied: scipy>=1.1.0 in /usr/local/lib/python3.7/dist-packages (from scikit-learn>=0.23->sklearn-genetic) (1.7.3)\n",
            "Requirement already satisfied: dill>=0.3.6 in /usr/local/lib/python3.7/dist-packages (from multiprocess->sklearn-genetic) (0.3.6)\n",
            "Looking in indexes: https://pypi.org/simple, https://us-python.pkg.dev/colab-wheels/public/simple/\n",
            "Requirement already satisfied: sklearn-genetic-opt in /usr/local/lib/python3.7/dist-packages (0.9.0)\n",
            "Requirement already satisfied: tqdm>=4.61.1 in /usr/local/lib/python3.7/dist-packages (from sklearn-genetic-opt) (4.64.1)\n",
            "Requirement already satisfied: deap>=1.3.1 in /usr/local/lib/python3.7/dist-packages (from sklearn-genetic-opt) (1.3.3)\n",
            "Requirement already satisfied: scikit-learn>=0.21.3 in /usr/local/lib/python3.7/dist-packages (from sklearn-genetic-opt) (1.0.2)\n",
            "Requirement already satisfied: numpy>=1.14.5 in /usr/local/lib/python3.7/dist-packages (from sklearn-genetic-opt) (1.21.6)\n",
            "Requirement already satisfied: threadpoolctl>=2.0.0 in /usr/local/lib/python3.7/dist-packages (from scikit-learn>=0.21.3->sklearn-genetic-opt) (3.1.0)\n",
            "Requirement already satisfied: scipy>=1.1.0 in /usr/local/lib/python3.7/dist-packages (from scikit-learn>=0.21.3->sklearn-genetic-opt) (1.7.3)\n",
            "Requirement already satisfied: joblib>=0.11 in /usr/local/lib/python3.7/dist-packages (from scikit-learn>=0.21.3->sklearn-genetic-opt) (1.2.0)\n"
          ]
        }
      ]
    },
    {
      "cell_type": "markdown",
      "source": [
        "Reading Data"
      ],
      "metadata": {
        "id": "n1T2xwFq__yD"
      }
    },
    {
      "cell_type": "code",
      "source": [
        "training = pd.read_csv(\"/gdrive/My Drive/CIS508Ass4-2/SantanderCustomerSatisfaction-TRAIN.csv\")\n",
        "test = pd.read_csv(\"/gdrive/My Drive/CIS508Ass4-2/SantanderCustomerSatisfaction-TEST-WithoutTARGET.csv\")"
      ],
      "metadata": {
        "id": "prfL6xTmSzQW"
      },
      "execution_count": null,
      "outputs": []
    },
    {
      "cell_type": "markdown",
      "source": [
        "Performing EDA on the data"
      ],
      "metadata": {
        "id": "aaMCgQjNCIDl"
      }
    },
    {
      "cell_type": "code",
      "source": [
        "training.info()\n",
        "print()\n",
        "test.info()"
      ],
      "metadata": {
        "colab": {
          "base_uri": "https://localhost:8080/"
        },
        "id": "xrXR22RWSBXj",
        "outputId": "b4dfce5d-936c-4cb1-c927-c480689e4c49"
      },
      "execution_count": null,
      "outputs": [
        {
          "output_type": "stream",
          "name": "stdout",
          "text": [
            "<class 'pandas.core.frame.DataFrame'>\n",
            "RangeIndex: 76020 entries, 0 to 76019\n",
            "Columns: 371 entries, ID to TARGET\n",
            "dtypes: float64(111), int64(260)\n",
            "memory usage: 215.2 MB\n",
            "\n",
            "<class 'pandas.core.frame.DataFrame'>\n",
            "RangeIndex: 75818 entries, 0 to 75817\n",
            "Columns: 370 entries, ID to var38\n",
            "dtypes: float64(110), int64(260)\n",
            "memory usage: 214.0 MB\n"
          ]
        }
      ]
    },
    {
      "cell_type": "code",
      "source": [
        "print(\"Training Shape\", training.shape)\n",
        "print(\"--------------\")\n",
        "print(\"Test shape\", test.shape)"
      ],
      "metadata": {
        "colab": {
          "base_uri": "https://localhost:8080/"
        },
        "id": "hzXJRNiLwM_y",
        "outputId": "1ab9e02a-41e5-4948-92af-85099982706e"
      },
      "execution_count": null,
      "outputs": [
        {
          "output_type": "stream",
          "name": "stdout",
          "text": [
            "Training Shape (76020, 371)\n",
            "--------------\n",
            "Test shape (75818, 370)\n"
          ]
        }
      ]
    },
    {
      "cell_type": "code",
      "source": [
        "training.describe()"
      ],
      "metadata": {
        "colab": {
          "base_uri": "https://localhost:8080/",
          "height": 394
        },
        "id": "XnoSmzvQSBZY",
        "outputId": "e56c3f1c-bf5f-4bca-ac96-c45c0a70ac1e"
      },
      "execution_count": null,
      "outputs": [
        {
          "output_type": "execute_result",
          "data": {
            "text/plain": [
              "                  ID           var3         var15  imp_ent_var16_ult1  \\\n",
              "count   76020.000000   76020.000000  76020.000000        76020.000000   \n",
              "mean    75964.050723   -1523.199277     33.212865           86.208265   \n",
              "std     43781.947379   39033.462364     12.956486         1614.757313   \n",
              "min         1.000000 -999999.000000      5.000000            0.000000   \n",
              "25%     38104.750000       2.000000     23.000000            0.000000   \n",
              "50%     76043.000000       2.000000     28.000000            0.000000   \n",
              "75%    113748.750000       2.000000     40.000000            0.000000   \n",
              "max    151838.000000     238.000000    105.000000       210000.000000   \n",
              "\n",
              "       imp_op_var39_comer_ult1  imp_op_var39_comer_ult3  \\\n",
              "count             76020.000000             76020.000000   \n",
              "mean                 72.363067               119.529632   \n",
              "std                 339.315831               546.266294   \n",
              "min                   0.000000                 0.000000   \n",
              "25%                   0.000000                 0.000000   \n",
              "50%                   0.000000                 0.000000   \n",
              "75%                   0.000000                 0.000000   \n",
              "max               12888.030000             21024.810000   \n",
              "\n",
              "       imp_op_var40_comer_ult1  imp_op_var40_comer_ult3  \\\n",
              "count             76020.000000             76020.000000   \n",
              "mean                  3.559130                 6.472698   \n",
              "std                  93.155749               153.737066   \n",
              "min                   0.000000                 0.000000   \n",
              "25%                   0.000000                 0.000000   \n",
              "50%                   0.000000                 0.000000   \n",
              "75%                   0.000000                 0.000000   \n",
              "max                8237.820000             11073.570000   \n",
              "\n",
              "       imp_op_var40_efect_ult1  imp_op_var40_efect_ult3  ...  \\\n",
              "count             76020.000000             76020.000000  ...   \n",
              "mean                  0.412946                 0.567352  ...   \n",
              "std                  30.604864                36.513513  ...   \n",
              "min                   0.000000                 0.000000  ...   \n",
              "25%                   0.000000                 0.000000  ...   \n",
              "50%                   0.000000                 0.000000  ...   \n",
              "75%                   0.000000                 0.000000  ...   \n",
              "max                6600.000000              6600.000000  ...   \n",
              "\n",
              "       saldo_medio_var33_hace2  saldo_medio_var33_hace3  \\\n",
              "count             76020.000000             76020.000000   \n",
              "mean                  7.935824                 1.365146   \n",
              "std                 455.887218               113.959637   \n",
              "min                   0.000000                 0.000000   \n",
              "25%                   0.000000                 0.000000   \n",
              "50%                   0.000000                 0.000000   \n",
              "75%                   0.000000                 0.000000   \n",
              "max               50003.880000             20385.720000   \n",
              "\n",
              "       saldo_medio_var33_ult1  saldo_medio_var33_ult3  \\\n",
              "count            76020.000000            76020.000000   \n",
              "mean                12.215580                8.784074   \n",
              "std                783.207399              538.439211   \n",
              "min                  0.000000                0.000000   \n",
              "25%                  0.000000                0.000000   \n",
              "50%                  0.000000                0.000000   \n",
              "75%                  0.000000                0.000000   \n",
              "max             138831.630000            91778.730000   \n",
              "\n",
              "       saldo_medio_var44_hace2  saldo_medio_var44_hace3  \\\n",
              "count             76020.000000             76020.000000   \n",
              "mean                 31.505324                 1.858575   \n",
              "std                2013.125393               147.786584   \n",
              "min                   0.000000                 0.000000   \n",
              "25%                   0.000000                 0.000000   \n",
              "50%                   0.000000                 0.000000   \n",
              "75%                   0.000000                 0.000000   \n",
              "max              438329.220000             24650.010000   \n",
              "\n",
              "       saldo_medio_var44_ult1  saldo_medio_var44_ult3         var38  \\\n",
              "count            76020.000000            76020.000000  7.602000e+04   \n",
              "mean                76.026165               56.614351  1.172358e+05   \n",
              "std               4040.337842             2852.579397  1.826646e+05   \n",
              "min                  0.000000                0.000000  5.163750e+03   \n",
              "25%                  0.000000                0.000000  6.787061e+04   \n",
              "50%                  0.000000                0.000000  1.064092e+05   \n",
              "75%                  0.000000                0.000000  1.187563e+05   \n",
              "max             681462.900000           397884.300000  2.203474e+07   \n",
              "\n",
              "             TARGET  \n",
              "count  76020.000000  \n",
              "mean       0.039569  \n",
              "std        0.194945  \n",
              "min        0.000000  \n",
              "25%        0.000000  \n",
              "50%        0.000000  \n",
              "75%        0.000000  \n",
              "max        1.000000  \n",
              "\n",
              "[8 rows x 371 columns]"
            ],
            "text/html": [
              "\n",
              "  <div id=\"df-53f242cd-d02b-47b8-8a54-962d5105d7a1\">\n",
              "    <div class=\"colab-df-container\">\n",
              "      <div>\n",
              "<style scoped>\n",
              "    .dataframe tbody tr th:only-of-type {\n",
              "        vertical-align: middle;\n",
              "    }\n",
              "\n",
              "    .dataframe tbody tr th {\n",
              "        vertical-align: top;\n",
              "    }\n",
              "\n",
              "    .dataframe thead th {\n",
              "        text-align: right;\n",
              "    }\n",
              "</style>\n",
              "<table border=\"1\" class=\"dataframe\">\n",
              "  <thead>\n",
              "    <tr style=\"text-align: right;\">\n",
              "      <th></th>\n",
              "      <th>ID</th>\n",
              "      <th>var3</th>\n",
              "      <th>var15</th>\n",
              "      <th>imp_ent_var16_ult1</th>\n",
              "      <th>imp_op_var39_comer_ult1</th>\n",
              "      <th>imp_op_var39_comer_ult3</th>\n",
              "      <th>imp_op_var40_comer_ult1</th>\n",
              "      <th>imp_op_var40_comer_ult3</th>\n",
              "      <th>imp_op_var40_efect_ult1</th>\n",
              "      <th>imp_op_var40_efect_ult3</th>\n",
              "      <th>...</th>\n",
              "      <th>saldo_medio_var33_hace2</th>\n",
              "      <th>saldo_medio_var33_hace3</th>\n",
              "      <th>saldo_medio_var33_ult1</th>\n",
              "      <th>saldo_medio_var33_ult3</th>\n",
              "      <th>saldo_medio_var44_hace2</th>\n",
              "      <th>saldo_medio_var44_hace3</th>\n",
              "      <th>saldo_medio_var44_ult1</th>\n",
              "      <th>saldo_medio_var44_ult3</th>\n",
              "      <th>var38</th>\n",
              "      <th>TARGET</th>\n",
              "    </tr>\n",
              "  </thead>\n",
              "  <tbody>\n",
              "    <tr>\n",
              "      <th>count</th>\n",
              "      <td>76020.000000</td>\n",
              "      <td>76020.000000</td>\n",
              "      <td>76020.000000</td>\n",
              "      <td>76020.000000</td>\n",
              "      <td>76020.000000</td>\n",
              "      <td>76020.000000</td>\n",
              "      <td>76020.000000</td>\n",
              "      <td>76020.000000</td>\n",
              "      <td>76020.000000</td>\n",
              "      <td>76020.000000</td>\n",
              "      <td>...</td>\n",
              "      <td>76020.000000</td>\n",
              "      <td>76020.000000</td>\n",
              "      <td>76020.000000</td>\n",
              "      <td>76020.000000</td>\n",
              "      <td>76020.000000</td>\n",
              "      <td>76020.000000</td>\n",
              "      <td>76020.000000</td>\n",
              "      <td>76020.000000</td>\n",
              "      <td>7.602000e+04</td>\n",
              "      <td>76020.000000</td>\n",
              "    </tr>\n",
              "    <tr>\n",
              "      <th>mean</th>\n",
              "      <td>75964.050723</td>\n",
              "      <td>-1523.199277</td>\n",
              "      <td>33.212865</td>\n",
              "      <td>86.208265</td>\n",
              "      <td>72.363067</td>\n",
              "      <td>119.529632</td>\n",
              "      <td>3.559130</td>\n",
              "      <td>6.472698</td>\n",
              "      <td>0.412946</td>\n",
              "      <td>0.567352</td>\n",
              "      <td>...</td>\n",
              "      <td>7.935824</td>\n",
              "      <td>1.365146</td>\n",
              "      <td>12.215580</td>\n",
              "      <td>8.784074</td>\n",
              "      <td>31.505324</td>\n",
              "      <td>1.858575</td>\n",
              "      <td>76.026165</td>\n",
              "      <td>56.614351</td>\n",
              "      <td>1.172358e+05</td>\n",
              "      <td>0.039569</td>\n",
              "    </tr>\n",
              "    <tr>\n",
              "      <th>std</th>\n",
              "      <td>43781.947379</td>\n",
              "      <td>39033.462364</td>\n",
              "      <td>12.956486</td>\n",
              "      <td>1614.757313</td>\n",
              "      <td>339.315831</td>\n",
              "      <td>546.266294</td>\n",
              "      <td>93.155749</td>\n",
              "      <td>153.737066</td>\n",
              "      <td>30.604864</td>\n",
              "      <td>36.513513</td>\n",
              "      <td>...</td>\n",
              "      <td>455.887218</td>\n",
              "      <td>113.959637</td>\n",
              "      <td>783.207399</td>\n",
              "      <td>538.439211</td>\n",
              "      <td>2013.125393</td>\n",
              "      <td>147.786584</td>\n",
              "      <td>4040.337842</td>\n",
              "      <td>2852.579397</td>\n",
              "      <td>1.826646e+05</td>\n",
              "      <td>0.194945</td>\n",
              "    </tr>\n",
              "    <tr>\n",
              "      <th>min</th>\n",
              "      <td>1.000000</td>\n",
              "      <td>-999999.000000</td>\n",
              "      <td>5.000000</td>\n",
              "      <td>0.000000</td>\n",
              "      <td>0.000000</td>\n",
              "      <td>0.000000</td>\n",
              "      <td>0.000000</td>\n",
              "      <td>0.000000</td>\n",
              "      <td>0.000000</td>\n",
              "      <td>0.000000</td>\n",
              "      <td>...</td>\n",
              "      <td>0.000000</td>\n",
              "      <td>0.000000</td>\n",
              "      <td>0.000000</td>\n",
              "      <td>0.000000</td>\n",
              "      <td>0.000000</td>\n",
              "      <td>0.000000</td>\n",
              "      <td>0.000000</td>\n",
              "      <td>0.000000</td>\n",
              "      <td>5.163750e+03</td>\n",
              "      <td>0.000000</td>\n",
              "    </tr>\n",
              "    <tr>\n",
              "      <th>25%</th>\n",
              "      <td>38104.750000</td>\n",
              "      <td>2.000000</td>\n",
              "      <td>23.000000</td>\n",
              "      <td>0.000000</td>\n",
              "      <td>0.000000</td>\n",
              "      <td>0.000000</td>\n",
              "      <td>0.000000</td>\n",
              "      <td>0.000000</td>\n",
              "      <td>0.000000</td>\n",
              "      <td>0.000000</td>\n",
              "      <td>...</td>\n",
              "      <td>0.000000</td>\n",
              "      <td>0.000000</td>\n",
              "      <td>0.000000</td>\n",
              "      <td>0.000000</td>\n",
              "      <td>0.000000</td>\n",
              "      <td>0.000000</td>\n",
              "      <td>0.000000</td>\n",
              "      <td>0.000000</td>\n",
              "      <td>6.787061e+04</td>\n",
              "      <td>0.000000</td>\n",
              "    </tr>\n",
              "    <tr>\n",
              "      <th>50%</th>\n",
              "      <td>76043.000000</td>\n",
              "      <td>2.000000</td>\n",
              "      <td>28.000000</td>\n",
              "      <td>0.000000</td>\n",
              "      <td>0.000000</td>\n",
              "      <td>0.000000</td>\n",
              "      <td>0.000000</td>\n",
              "      <td>0.000000</td>\n",
              "      <td>0.000000</td>\n",
              "      <td>0.000000</td>\n",
              "      <td>...</td>\n",
              "      <td>0.000000</td>\n",
              "      <td>0.000000</td>\n",
              "      <td>0.000000</td>\n",
              "      <td>0.000000</td>\n",
              "      <td>0.000000</td>\n",
              "      <td>0.000000</td>\n",
              "      <td>0.000000</td>\n",
              "      <td>0.000000</td>\n",
              "      <td>1.064092e+05</td>\n",
              "      <td>0.000000</td>\n",
              "    </tr>\n",
              "    <tr>\n",
              "      <th>75%</th>\n",
              "      <td>113748.750000</td>\n",
              "      <td>2.000000</td>\n",
              "      <td>40.000000</td>\n",
              "      <td>0.000000</td>\n",
              "      <td>0.000000</td>\n",
              "      <td>0.000000</td>\n",
              "      <td>0.000000</td>\n",
              "      <td>0.000000</td>\n",
              "      <td>0.000000</td>\n",
              "      <td>0.000000</td>\n",
              "      <td>...</td>\n",
              "      <td>0.000000</td>\n",
              "      <td>0.000000</td>\n",
              "      <td>0.000000</td>\n",
              "      <td>0.000000</td>\n",
              "      <td>0.000000</td>\n",
              "      <td>0.000000</td>\n",
              "      <td>0.000000</td>\n",
              "      <td>0.000000</td>\n",
              "      <td>1.187563e+05</td>\n",
              "      <td>0.000000</td>\n",
              "    </tr>\n",
              "    <tr>\n",
              "      <th>max</th>\n",
              "      <td>151838.000000</td>\n",
              "      <td>238.000000</td>\n",
              "      <td>105.000000</td>\n",
              "      <td>210000.000000</td>\n",
              "      <td>12888.030000</td>\n",
              "      <td>21024.810000</td>\n",
              "      <td>8237.820000</td>\n",
              "      <td>11073.570000</td>\n",
              "      <td>6600.000000</td>\n",
              "      <td>6600.000000</td>\n",
              "      <td>...</td>\n",
              "      <td>50003.880000</td>\n",
              "      <td>20385.720000</td>\n",
              "      <td>138831.630000</td>\n",
              "      <td>91778.730000</td>\n",
              "      <td>438329.220000</td>\n",
              "      <td>24650.010000</td>\n",
              "      <td>681462.900000</td>\n",
              "      <td>397884.300000</td>\n",
              "      <td>2.203474e+07</td>\n",
              "      <td>1.000000</td>\n",
              "    </tr>\n",
              "  </tbody>\n",
              "</table>\n",
              "<p>8 rows × 371 columns</p>\n",
              "</div>\n",
              "      <button class=\"colab-df-convert\" onclick=\"convertToInteractive('df-53f242cd-d02b-47b8-8a54-962d5105d7a1')\"\n",
              "              title=\"Convert this dataframe to an interactive table.\"\n",
              "              style=\"display:none;\">\n",
              "        \n",
              "  <svg xmlns=\"http://www.w3.org/2000/svg\" height=\"24px\"viewBox=\"0 0 24 24\"\n",
              "       width=\"24px\">\n",
              "    <path d=\"M0 0h24v24H0V0z\" fill=\"none\"/>\n",
              "    <path d=\"M18.56 5.44l.94 2.06.94-2.06 2.06-.94-2.06-.94-.94-2.06-.94 2.06-2.06.94zm-11 1L8.5 8.5l.94-2.06 2.06-.94-2.06-.94L8.5 2.5l-.94 2.06-2.06.94zm10 10l.94 2.06.94-2.06 2.06-.94-2.06-.94-.94-2.06-.94 2.06-2.06.94z\"/><path d=\"M17.41 7.96l-1.37-1.37c-.4-.4-.92-.59-1.43-.59-.52 0-1.04.2-1.43.59L10.3 9.45l-7.72 7.72c-.78.78-.78 2.05 0 2.83L4 21.41c.39.39.9.59 1.41.59.51 0 1.02-.2 1.41-.59l7.78-7.78 2.81-2.81c.8-.78.8-2.07 0-2.86zM5.41 20L4 18.59l7.72-7.72 1.47 1.35L5.41 20z\"/>\n",
              "  </svg>\n",
              "      </button>\n",
              "      \n",
              "  <style>\n",
              "    .colab-df-container {\n",
              "      display:flex;\n",
              "      flex-wrap:wrap;\n",
              "      gap: 12px;\n",
              "    }\n",
              "\n",
              "    .colab-df-convert {\n",
              "      background-color: #E8F0FE;\n",
              "      border: none;\n",
              "      border-radius: 50%;\n",
              "      cursor: pointer;\n",
              "      display: none;\n",
              "      fill: #1967D2;\n",
              "      height: 32px;\n",
              "      padding: 0 0 0 0;\n",
              "      width: 32px;\n",
              "    }\n",
              "\n",
              "    .colab-df-convert:hover {\n",
              "      background-color: #E2EBFA;\n",
              "      box-shadow: 0px 1px 2px rgba(60, 64, 67, 0.3), 0px 1px 3px 1px rgba(60, 64, 67, 0.15);\n",
              "      fill: #174EA6;\n",
              "    }\n",
              "\n",
              "    [theme=dark] .colab-df-convert {\n",
              "      background-color: #3B4455;\n",
              "      fill: #D2E3FC;\n",
              "    }\n",
              "\n",
              "    [theme=dark] .colab-df-convert:hover {\n",
              "      background-color: #434B5C;\n",
              "      box-shadow: 0px 1px 3px 1px rgba(0, 0, 0, 0.15);\n",
              "      filter: drop-shadow(0px 1px 2px rgba(0, 0, 0, 0.3));\n",
              "      fill: #FFFFFF;\n",
              "    }\n",
              "  </style>\n",
              "\n",
              "      <script>\n",
              "        const buttonEl =\n",
              "          document.querySelector('#df-53f242cd-d02b-47b8-8a54-962d5105d7a1 button.colab-df-convert');\n",
              "        buttonEl.style.display =\n",
              "          google.colab.kernel.accessAllowed ? 'block' : 'none';\n",
              "\n",
              "        async function convertToInteractive(key) {\n",
              "          const element = document.querySelector('#df-53f242cd-d02b-47b8-8a54-962d5105d7a1');\n",
              "          const dataTable =\n",
              "            await google.colab.kernel.invokeFunction('convertToInteractive',\n",
              "                                                     [key], {});\n",
              "          if (!dataTable) return;\n",
              "\n",
              "          const docLinkHtml = 'Like what you see? Visit the ' +\n",
              "            '<a target=\"_blank\" href=https://colab.research.google.com/notebooks/data_table.ipynb>data table notebook</a>'\n",
              "            + ' to learn more about interactive tables.';\n",
              "          element.innerHTML = '';\n",
              "          dataTable['output_type'] = 'display_data';\n",
              "          await google.colab.output.renderOutput(dataTable, element);\n",
              "          const docLink = document.createElement('div');\n",
              "          docLink.innerHTML = docLinkHtml;\n",
              "          element.appendChild(docLink);\n",
              "        }\n",
              "      </script>\n",
              "    </div>\n",
              "  </div>\n",
              "  "
            ]
          },
          "metadata": {},
          "execution_count": 6
        }
      ]
    },
    {
      "cell_type": "code",
      "source": [
        "#To get list of names of all Columns from a dataframe\n",
        "\n",
        "TrainCols = list(training.columns.values)\n",
        "TestCols = list(test.columns.values)\n",
        "print(TrainCols)\n",
        "print(TestCols)"
      ],
      "metadata": {
        "colab": {
          "base_uri": "https://localhost:8080/"
        },
        "id": "b6tFoCdbSBbG",
        "outputId": "3417d808-4e9a-42ef-bbaa-d1d408e26476"
      },
      "execution_count": null,
      "outputs": [
        {
          "output_type": "stream",
          "name": "stdout",
          "text": [
            "['ID', 'var3', 'var15', 'imp_ent_var16_ult1', 'imp_op_var39_comer_ult1', 'imp_op_var39_comer_ult3', 'imp_op_var40_comer_ult1', 'imp_op_var40_comer_ult3', 'imp_op_var40_efect_ult1', 'imp_op_var40_efect_ult3', 'imp_op_var40_ult1', 'imp_op_var41_comer_ult1', 'imp_op_var41_comer_ult3', 'imp_op_var41_efect_ult1', 'imp_op_var41_efect_ult3', 'imp_op_var41_ult1', 'imp_op_var39_efect_ult1', 'imp_op_var39_efect_ult3', 'imp_op_var39_ult1', 'imp_sal_var16_ult1', 'ind_var1_0', 'ind_var1', 'ind_var2_0', 'ind_var2', 'ind_var5_0', 'ind_var5', 'ind_var6_0', 'ind_var6', 'ind_var8_0', 'ind_var8', 'ind_var12_0', 'ind_var12', 'ind_var13_0', 'ind_var13_corto_0', 'ind_var13_corto', 'ind_var13_largo_0', 'ind_var13_largo', 'ind_var13_medio_0', 'ind_var13_medio', 'ind_var13', 'ind_var14_0', 'ind_var14', 'ind_var17_0', 'ind_var17', 'ind_var18_0', 'ind_var18', 'ind_var19', 'ind_var20_0', 'ind_var20', 'ind_var24_0', 'ind_var24', 'ind_var25_cte', 'ind_var26_0', 'ind_var26_cte', 'ind_var26', 'ind_var25_0', 'ind_var25', 'ind_var27_0', 'ind_var28_0', 'ind_var28', 'ind_var27', 'ind_var29_0', 'ind_var29', 'ind_var30_0', 'ind_var30', 'ind_var31_0', 'ind_var31', 'ind_var32_cte', 'ind_var32_0', 'ind_var32', 'ind_var33_0', 'ind_var33', 'ind_var34_0', 'ind_var34', 'ind_var37_cte', 'ind_var37_0', 'ind_var37', 'ind_var39_0', 'ind_var40_0', 'ind_var40', 'ind_var41_0', 'ind_var41', 'ind_var39', 'ind_var44_0', 'ind_var44', 'ind_var46_0', 'ind_var46', 'num_var1_0', 'num_var1', 'num_var4', 'num_var5_0', 'num_var5', 'num_var6_0', 'num_var6', 'num_var8_0', 'num_var8', 'num_var12_0', 'num_var12', 'num_var13_0', 'num_var13_corto_0', 'num_var13_corto', 'num_var13_largo_0', 'num_var13_largo', 'num_var13_medio_0', 'num_var13_medio', 'num_var13', 'num_var14_0', 'num_var14', 'num_var17_0', 'num_var17', 'num_var18_0', 'num_var18', 'num_var20_0', 'num_var20', 'num_var24_0', 'num_var24', 'num_var26_0', 'num_var26', 'num_var25_0', 'num_var25', 'num_op_var40_hace2', 'num_op_var40_hace3', 'num_op_var40_ult1', 'num_op_var40_ult3', 'num_op_var41_hace2', 'num_op_var41_hace3', 'num_op_var41_ult1', 'num_op_var41_ult3', 'num_op_var39_hace2', 'num_op_var39_hace3', 'num_op_var39_ult1', 'num_op_var39_ult3', 'num_var27_0', 'num_var28_0', 'num_var28', 'num_var27', 'num_var29_0', 'num_var29', 'num_var30_0', 'num_var30', 'num_var31_0', 'num_var31', 'num_var32_0', 'num_var32', 'num_var33_0', 'num_var33', 'num_var34_0', 'num_var34', 'num_var35', 'num_var37_med_ult2', 'num_var37_0', 'num_var37', 'num_var39_0', 'num_var40_0', 'num_var40', 'num_var41_0', 'num_var41', 'num_var39', 'num_var42_0', 'num_var42', 'num_var44_0', 'num_var44', 'num_var46_0', 'num_var46', 'saldo_var1', 'saldo_var5', 'saldo_var6', 'saldo_var8', 'saldo_var12', 'saldo_var13_corto', 'saldo_var13_largo', 'saldo_var13_medio', 'saldo_var13', 'saldo_var14', 'saldo_var17', 'saldo_var18', 'saldo_var20', 'saldo_var24', 'saldo_var26', 'saldo_var25', 'saldo_var28', 'saldo_var27', 'saldo_var29', 'saldo_var30', 'saldo_var31', 'saldo_var32', 'saldo_var33', 'saldo_var34', 'saldo_var37', 'saldo_var40', 'saldo_var41', 'saldo_var42', 'saldo_var44', 'saldo_var46', 'var36', 'delta_imp_amort_var18_1y3', 'delta_imp_amort_var34_1y3', 'delta_imp_aport_var13_1y3', 'delta_imp_aport_var17_1y3', 'delta_imp_aport_var33_1y3', 'delta_imp_compra_var44_1y3', 'delta_imp_reemb_var13_1y3', 'delta_imp_reemb_var17_1y3', 'delta_imp_reemb_var33_1y3', 'delta_imp_trasp_var17_in_1y3', 'delta_imp_trasp_var17_out_1y3', 'delta_imp_trasp_var33_in_1y3', 'delta_imp_trasp_var33_out_1y3', 'delta_imp_venta_var44_1y3', 'delta_num_aport_var13_1y3', 'delta_num_aport_var17_1y3', 'delta_num_aport_var33_1y3', 'delta_num_compra_var44_1y3', 'delta_num_reemb_var13_1y3', 'delta_num_reemb_var17_1y3', 'delta_num_reemb_var33_1y3', 'delta_num_trasp_var17_in_1y3', 'delta_num_trasp_var17_out_1y3', 'delta_num_trasp_var33_in_1y3', 'delta_num_trasp_var33_out_1y3', 'delta_num_venta_var44_1y3', 'imp_amort_var18_hace3', 'imp_amort_var18_ult1', 'imp_amort_var34_hace3', 'imp_amort_var34_ult1', 'imp_aport_var13_hace3', 'imp_aport_var13_ult1', 'imp_aport_var17_hace3', 'imp_aport_var17_ult1', 'imp_aport_var33_hace3', 'imp_aport_var33_ult1', 'imp_var7_emit_ult1', 'imp_var7_recib_ult1', 'imp_compra_var44_hace3', 'imp_compra_var44_ult1', 'imp_reemb_var13_hace3', 'imp_reemb_var13_ult1', 'imp_reemb_var17_hace3', 'imp_reemb_var17_ult1', 'imp_reemb_var33_hace3', 'imp_reemb_var33_ult1', 'imp_var43_emit_ult1', 'imp_trans_var37_ult1', 'imp_trasp_var17_in_hace3', 'imp_trasp_var17_in_ult1', 'imp_trasp_var17_out_hace3', 'imp_trasp_var17_out_ult1', 'imp_trasp_var33_in_hace3', 'imp_trasp_var33_in_ult1', 'imp_trasp_var33_out_hace3', 'imp_trasp_var33_out_ult1', 'imp_venta_var44_hace3', 'imp_venta_var44_ult1', 'ind_var7_emit_ult1', 'ind_var7_recib_ult1', 'ind_var10_ult1', 'ind_var10cte_ult1', 'ind_var9_cte_ult1', 'ind_var9_ult1', 'ind_var43_emit_ult1', 'ind_var43_recib_ult1', 'var21', 'num_var2_0_ult1', 'num_var2_ult1', 'num_aport_var13_hace3', 'num_aport_var13_ult1', 'num_aport_var17_hace3', 'num_aport_var17_ult1', 'num_aport_var33_hace3', 'num_aport_var33_ult1', 'num_var7_emit_ult1', 'num_var7_recib_ult1', 'num_compra_var44_hace3', 'num_compra_var44_ult1', 'num_ent_var16_ult1', 'num_var22_hace2', 'num_var22_hace3', 'num_var22_ult1', 'num_var22_ult3', 'num_med_var22_ult3', 'num_med_var45_ult3', 'num_meses_var5_ult3', 'num_meses_var8_ult3', 'num_meses_var12_ult3', 'num_meses_var13_corto_ult3', 'num_meses_var13_largo_ult3', 'num_meses_var13_medio_ult3', 'num_meses_var17_ult3', 'num_meses_var29_ult3', 'num_meses_var33_ult3', 'num_meses_var39_vig_ult3', 'num_meses_var44_ult3', 'num_op_var39_comer_ult1', 'num_op_var39_comer_ult3', 'num_op_var40_comer_ult1', 'num_op_var40_comer_ult3', 'num_op_var40_efect_ult1', 'num_op_var40_efect_ult3', 'num_op_var41_comer_ult1', 'num_op_var41_comer_ult3', 'num_op_var41_efect_ult1', 'num_op_var41_efect_ult3', 'num_op_var39_efect_ult1', 'num_op_var39_efect_ult3', 'num_reemb_var13_hace3', 'num_reemb_var13_ult1', 'num_reemb_var17_hace3', 'num_reemb_var17_ult1', 'num_reemb_var33_hace3', 'num_reemb_var33_ult1', 'num_sal_var16_ult1', 'num_var43_emit_ult1', 'num_var43_recib_ult1', 'num_trasp_var11_ult1', 'num_trasp_var17_in_hace3', 'num_trasp_var17_in_ult1', 'num_trasp_var17_out_hace3', 'num_trasp_var17_out_ult1', 'num_trasp_var33_in_hace3', 'num_trasp_var33_in_ult1', 'num_trasp_var33_out_hace3', 'num_trasp_var33_out_ult1', 'num_venta_var44_hace3', 'num_venta_var44_ult1', 'num_var45_hace2', 'num_var45_hace3', 'num_var45_ult1', 'num_var45_ult3', 'saldo_var2_ult1', 'saldo_medio_var5_hace2', 'saldo_medio_var5_hace3', 'saldo_medio_var5_ult1', 'saldo_medio_var5_ult3', 'saldo_medio_var8_hace2', 'saldo_medio_var8_hace3', 'saldo_medio_var8_ult1', 'saldo_medio_var8_ult3', 'saldo_medio_var12_hace2', 'saldo_medio_var12_hace3', 'saldo_medio_var12_ult1', 'saldo_medio_var12_ult3', 'saldo_medio_var13_corto_hace2', 'saldo_medio_var13_corto_hace3', 'saldo_medio_var13_corto_ult1', 'saldo_medio_var13_corto_ult3', 'saldo_medio_var13_largo_hace2', 'saldo_medio_var13_largo_hace3', 'saldo_medio_var13_largo_ult1', 'saldo_medio_var13_largo_ult3', 'saldo_medio_var13_medio_hace2', 'saldo_medio_var13_medio_hace3', 'saldo_medio_var13_medio_ult1', 'saldo_medio_var13_medio_ult3', 'saldo_medio_var17_hace2', 'saldo_medio_var17_hace3', 'saldo_medio_var17_ult1', 'saldo_medio_var17_ult3', 'saldo_medio_var29_hace2', 'saldo_medio_var29_hace3', 'saldo_medio_var29_ult1', 'saldo_medio_var29_ult3', 'saldo_medio_var33_hace2', 'saldo_medio_var33_hace3', 'saldo_medio_var33_ult1', 'saldo_medio_var33_ult3', 'saldo_medio_var44_hace2', 'saldo_medio_var44_hace3', 'saldo_medio_var44_ult1', 'saldo_medio_var44_ult3', 'var38', 'TARGET']\n",
            "['ID', 'var3', 'var15', 'imp_ent_var16_ult1', 'imp_op_var39_comer_ult1', 'imp_op_var39_comer_ult3', 'imp_op_var40_comer_ult1', 'imp_op_var40_comer_ult3', 'imp_op_var40_efect_ult1', 'imp_op_var40_efect_ult3', 'imp_op_var40_ult1', 'imp_op_var41_comer_ult1', 'imp_op_var41_comer_ult3', 'imp_op_var41_efect_ult1', 'imp_op_var41_efect_ult3', 'imp_op_var41_ult1', 'imp_op_var39_efect_ult1', 'imp_op_var39_efect_ult3', 'imp_op_var39_ult1', 'imp_sal_var16_ult1', 'ind_var1_0', 'ind_var1', 'ind_var2_0', 'ind_var2', 'ind_var5_0', 'ind_var5', 'ind_var6_0', 'ind_var6', 'ind_var8_0', 'ind_var8', 'ind_var12_0', 'ind_var12', 'ind_var13_0', 'ind_var13_corto_0', 'ind_var13_corto', 'ind_var13_largo_0', 'ind_var13_largo', 'ind_var13_medio_0', 'ind_var13_medio', 'ind_var13', 'ind_var14_0', 'ind_var14', 'ind_var17_0', 'ind_var17', 'ind_var18_0', 'ind_var18', 'ind_var19', 'ind_var20_0', 'ind_var20', 'ind_var24_0', 'ind_var24', 'ind_var25_cte', 'ind_var26_0', 'ind_var26_cte', 'ind_var26', 'ind_var25_0', 'ind_var25', 'ind_var27_0', 'ind_var28_0', 'ind_var28', 'ind_var27', 'ind_var29_0', 'ind_var29', 'ind_var30_0', 'ind_var30', 'ind_var31_0', 'ind_var31', 'ind_var32_cte', 'ind_var32_0', 'ind_var32', 'ind_var33_0', 'ind_var33', 'ind_var34_0', 'ind_var34', 'ind_var37_cte', 'ind_var37_0', 'ind_var37', 'ind_var39_0', 'ind_var40_0', 'ind_var40', 'ind_var41_0', 'ind_var41', 'ind_var39', 'ind_var44_0', 'ind_var44', 'ind_var46_0', 'ind_var46', 'num_var1_0', 'num_var1', 'num_var4', 'num_var5_0', 'num_var5', 'num_var6_0', 'num_var6', 'num_var8_0', 'num_var8', 'num_var12_0', 'num_var12', 'num_var13_0', 'num_var13_corto_0', 'num_var13_corto', 'num_var13_largo_0', 'num_var13_largo', 'num_var13_medio_0', 'num_var13_medio', 'num_var13', 'num_var14_0', 'num_var14', 'num_var17_0', 'num_var17', 'num_var18_0', 'num_var18', 'num_var20_0', 'num_var20', 'num_var24_0', 'num_var24', 'num_var26_0', 'num_var26', 'num_var25_0', 'num_var25', 'num_op_var40_hace2', 'num_op_var40_hace3', 'num_op_var40_ult1', 'num_op_var40_ult3', 'num_op_var41_hace2', 'num_op_var41_hace3', 'num_op_var41_ult1', 'num_op_var41_ult3', 'num_op_var39_hace2', 'num_op_var39_hace3', 'num_op_var39_ult1', 'num_op_var39_ult3', 'num_var27_0', 'num_var28_0', 'num_var28', 'num_var27', 'num_var29_0', 'num_var29', 'num_var30_0', 'num_var30', 'num_var31_0', 'num_var31', 'num_var32_0', 'num_var32', 'num_var33_0', 'num_var33', 'num_var34_0', 'num_var34', 'num_var35', 'num_var37_med_ult2', 'num_var37_0', 'num_var37', 'num_var39_0', 'num_var40_0', 'num_var40', 'num_var41_0', 'num_var41', 'num_var39', 'num_var42_0', 'num_var42', 'num_var44_0', 'num_var44', 'num_var46_0', 'num_var46', 'saldo_var1', 'saldo_var5', 'saldo_var6', 'saldo_var8', 'saldo_var12', 'saldo_var13_corto', 'saldo_var13_largo', 'saldo_var13_medio', 'saldo_var13', 'saldo_var14', 'saldo_var17', 'saldo_var18', 'saldo_var20', 'saldo_var24', 'saldo_var26', 'saldo_var25', 'saldo_var28', 'saldo_var27', 'saldo_var29', 'saldo_var30', 'saldo_var31', 'saldo_var32', 'saldo_var33', 'saldo_var34', 'saldo_var37', 'saldo_var40', 'saldo_var41', 'saldo_var42', 'saldo_var44', 'saldo_var46', 'var36', 'delta_imp_amort_var18_1y3', 'delta_imp_amort_var34_1y3', 'delta_imp_aport_var13_1y3', 'delta_imp_aport_var17_1y3', 'delta_imp_aport_var33_1y3', 'delta_imp_compra_var44_1y3', 'delta_imp_reemb_var13_1y3', 'delta_imp_reemb_var17_1y3', 'delta_imp_reemb_var33_1y3', 'delta_imp_trasp_var17_in_1y3', 'delta_imp_trasp_var17_out_1y3', 'delta_imp_trasp_var33_in_1y3', 'delta_imp_trasp_var33_out_1y3', 'delta_imp_venta_var44_1y3', 'delta_num_aport_var13_1y3', 'delta_num_aport_var17_1y3', 'delta_num_aport_var33_1y3', 'delta_num_compra_var44_1y3', 'delta_num_reemb_var13_1y3', 'delta_num_reemb_var17_1y3', 'delta_num_reemb_var33_1y3', 'delta_num_trasp_var17_in_1y3', 'delta_num_trasp_var17_out_1y3', 'delta_num_trasp_var33_in_1y3', 'delta_num_trasp_var33_out_1y3', 'delta_num_venta_var44_1y3', 'imp_amort_var18_hace3', 'imp_amort_var18_ult1', 'imp_amort_var34_hace3', 'imp_amort_var34_ult1', 'imp_aport_var13_hace3', 'imp_aport_var13_ult1', 'imp_aport_var17_hace3', 'imp_aport_var17_ult1', 'imp_aport_var33_hace3', 'imp_aport_var33_ult1', 'imp_var7_emit_ult1', 'imp_var7_recib_ult1', 'imp_compra_var44_hace3', 'imp_compra_var44_ult1', 'imp_reemb_var13_hace3', 'imp_reemb_var13_ult1', 'imp_reemb_var17_hace3', 'imp_reemb_var17_ult1', 'imp_reemb_var33_hace3', 'imp_reemb_var33_ult1', 'imp_var43_emit_ult1', 'imp_trans_var37_ult1', 'imp_trasp_var17_in_hace3', 'imp_trasp_var17_in_ult1', 'imp_trasp_var17_out_hace3', 'imp_trasp_var17_out_ult1', 'imp_trasp_var33_in_hace3', 'imp_trasp_var33_in_ult1', 'imp_trasp_var33_out_hace3', 'imp_trasp_var33_out_ult1', 'imp_venta_var44_hace3', 'imp_venta_var44_ult1', 'ind_var7_emit_ult1', 'ind_var7_recib_ult1', 'ind_var10_ult1', 'ind_var10cte_ult1', 'ind_var9_cte_ult1', 'ind_var9_ult1', 'ind_var43_emit_ult1', 'ind_var43_recib_ult1', 'var21', 'num_var2_0_ult1', 'num_var2_ult1', 'num_aport_var13_hace3', 'num_aport_var13_ult1', 'num_aport_var17_hace3', 'num_aport_var17_ult1', 'num_aport_var33_hace3', 'num_aport_var33_ult1', 'num_var7_emit_ult1', 'num_var7_recib_ult1', 'num_compra_var44_hace3', 'num_compra_var44_ult1', 'num_ent_var16_ult1', 'num_var22_hace2', 'num_var22_hace3', 'num_var22_ult1', 'num_var22_ult3', 'num_med_var22_ult3', 'num_med_var45_ult3', 'num_meses_var5_ult3', 'num_meses_var8_ult3', 'num_meses_var12_ult3', 'num_meses_var13_corto_ult3', 'num_meses_var13_largo_ult3', 'num_meses_var13_medio_ult3', 'num_meses_var17_ult3', 'num_meses_var29_ult3', 'num_meses_var33_ult3', 'num_meses_var39_vig_ult3', 'num_meses_var44_ult3', 'num_op_var39_comer_ult1', 'num_op_var39_comer_ult3', 'num_op_var40_comer_ult1', 'num_op_var40_comer_ult3', 'num_op_var40_efect_ult1', 'num_op_var40_efect_ult3', 'num_op_var41_comer_ult1', 'num_op_var41_comer_ult3', 'num_op_var41_efect_ult1', 'num_op_var41_efect_ult3', 'num_op_var39_efect_ult1', 'num_op_var39_efect_ult3', 'num_reemb_var13_hace3', 'num_reemb_var13_ult1', 'num_reemb_var17_hace3', 'num_reemb_var17_ult1', 'num_reemb_var33_hace3', 'num_reemb_var33_ult1', 'num_sal_var16_ult1', 'num_var43_emit_ult1', 'num_var43_recib_ult1', 'num_trasp_var11_ult1', 'num_trasp_var17_in_hace3', 'num_trasp_var17_in_ult1', 'num_trasp_var17_out_hace3', 'num_trasp_var17_out_ult1', 'num_trasp_var33_in_hace3', 'num_trasp_var33_in_ult1', 'num_trasp_var33_out_hace3', 'num_trasp_var33_out_ult1', 'num_venta_var44_hace3', 'num_venta_var44_ult1', 'num_var45_hace2', 'num_var45_hace3', 'num_var45_ult1', 'num_var45_ult3', 'saldo_var2_ult1', 'saldo_medio_var5_hace2', 'saldo_medio_var5_hace3', 'saldo_medio_var5_ult1', 'saldo_medio_var5_ult3', 'saldo_medio_var8_hace2', 'saldo_medio_var8_hace3', 'saldo_medio_var8_ult1', 'saldo_medio_var8_ult3', 'saldo_medio_var12_hace2', 'saldo_medio_var12_hace3', 'saldo_medio_var12_ult1', 'saldo_medio_var12_ult3', 'saldo_medio_var13_corto_hace2', 'saldo_medio_var13_corto_hace3', 'saldo_medio_var13_corto_ult1', 'saldo_medio_var13_corto_ult3', 'saldo_medio_var13_largo_hace2', 'saldo_medio_var13_largo_hace3', 'saldo_medio_var13_largo_ult1', 'saldo_medio_var13_largo_ult3', 'saldo_medio_var13_medio_hace2', 'saldo_medio_var13_medio_hace3', 'saldo_medio_var13_medio_ult1', 'saldo_medio_var13_medio_ult3', 'saldo_medio_var17_hace2', 'saldo_medio_var17_hace3', 'saldo_medio_var17_ult1', 'saldo_medio_var17_ult3', 'saldo_medio_var29_hace2', 'saldo_medio_var29_hace3', 'saldo_medio_var29_ult1', 'saldo_medio_var29_ult3', 'saldo_medio_var33_hace2', 'saldo_medio_var33_hace3', 'saldo_medio_var33_ult1', 'saldo_medio_var33_ult3', 'saldo_medio_var44_hace2', 'saldo_medio_var44_hace3', 'saldo_medio_var44_ult1', 'saldo_medio_var44_ult3', 'var38']\n"
          ]
        }
      ]
    },
    {
      "cell_type": "code",
      "source": [
        "#Removing 'Target' column\n",
        "\n",
        "Xtrain = training[TrainCols[0:len(TrainCols)-1]].copy()\n",
        "Ytrain = training[['TARGET']].copy()\n",
        "print(Xtrain.shape)\n",
        "print(Ytrain.shape)\n",
        "Xtest = test.copy()"
      ],
      "metadata": {
        "colab": {
          "base_uri": "https://localhost:8080/"
        },
        "id": "yNwgxAmNTLY5",
        "outputId": "3f640ab9-b235-4396-978c-593f3e2b3584"
      },
      "execution_count": null,
      "outputs": [
        {
          "output_type": "stream",
          "name": "stdout",
          "text": [
            "(76020, 370)\n",
            "(76020, 1)\n"
          ]
        }
      ]
    },
    {
      "cell_type": "markdown",
      "source": [
        "Printing the distribution of target class values"
      ],
      "metadata": {
        "id": "r85ZLG6oFBDU"
      }
    },
    {
      "cell_type": "code",
      "source": [
        "training[\"TARGET\"].value_counts()"
      ],
      "metadata": {
        "colab": {
          "base_uri": "https://localhost:8080/"
        },
        "id": "W5dRdfKhpSln",
        "outputId": "1db45fad-32e8-413d-ca1c-b2b0c2c22f89"
      },
      "execution_count": null,
      "outputs": [
        {
          "output_type": "execute_result",
          "data": {
            "text/plain": [
              "0    73012\n",
              "1     3008\n",
              "Name: TARGET, dtype: int64"
            ]
          },
          "metadata": {},
          "execution_count": 9
        }
      ]
    },
    {
      "cell_type": "markdown",
      "source": [
        "Performing **Feature Selection** using\n",
        "\n",
        "*   Variance Threshold: Removing constant columns\n",
        "*   Correlation matrix: Removing highly correlated columns\n",
        "\n",
        "The objective is to provide only important columns to the classifier to avoid over-fitting.\n",
        "\n"
      ],
      "metadata": {
        "id": "4VwGT-lZf87J"
      }
    },
    {
      "cell_type": "code",
      "source": [
        "X_train, X_test, Y_train, Y_test = train_test_split(Xtrain, Ytrain, test_size = 0.2 , random_state = 1, stratify = Ytrain)"
      ],
      "metadata": {
        "id": "I37vBBYlWoxn"
      },
      "execution_count": null,
      "outputs": []
    },
    {
      "cell_type": "code",
      "source": [
        "Y_test.shape"
      ],
      "metadata": {
        "id": "jbVbV2yr7IoE",
        "colab": {
          "base_uri": "https://localhost:8080/"
        },
        "outputId": "d19eed8b-b761-4369-80ee-6ed09732d8dc"
      },
      "execution_count": null,
      "outputs": [
        {
          "output_type": "execute_result",
          "data": {
            "text/plain": [
              "(15204, 1)"
            ]
          },
          "metadata": {},
          "execution_count": 11
        }
      ]
    },
    {
      "cell_type": "markdown",
      "source": [
        "To handle the under-representation of the target class, we will perform either:\n",
        "\n",
        "\n",
        "*  Undersampling\n",
        "*  Oversampling\n",
        "\n",
        "\n",
        "\n"
      ],
      "metadata": {
        "id": "ag0he-HCeJQm"
      }
    },
    {
      "cell_type": "code",
      "source": [
        "# instantiating the random undersampler\n",
        "rus = RandomUnderSampler(sampling_strategy= 1) \n",
        "# resampling X, y\n",
        "X_rus, Y_rus = rus.fit_resample(X_train, Y_train)\n",
        "# new class distribution\n",
        "X_rus.shape"
      ],
      "metadata": {
        "id": "PZYzvIvI73HQ",
        "colab": {
          "base_uri": "https://localhost:8080/"
        },
        "outputId": "e3f33674-5e04-4886-c3a8-885bbca46050"
      },
      "execution_count": null,
      "outputs": [
        {
          "output_type": "execute_result",
          "data": {
            "text/plain": [
              "(4812, 370)"
            ]
          },
          "metadata": {},
          "execution_count": 12
        }
      ]
    },
    {
      "cell_type": "code",
      "source": [
        "Y_rus[\"TARGET\"].value_counts()"
      ],
      "metadata": {
        "id": "ASKI1_1ZIpTn",
        "colab": {
          "base_uri": "https://localhost:8080/"
        },
        "outputId": "0534dc71-d148-41f8-a45e-ba76bef07d60"
      },
      "execution_count": null,
      "outputs": [
        {
          "output_type": "execute_result",
          "data": {
            "text/plain": [
              "0    2406\n",
              "1    2406\n",
              "Name: TARGET, dtype: int64"
            ]
          },
          "metadata": {},
          "execution_count": 13
        }
      ]
    },
    {
      "cell_type": "code",
      "source": [
        "Y_rus.shape"
      ],
      "metadata": {
        "id": "2iqUEx1F73KE",
        "colab": {
          "base_uri": "https://localhost:8080/"
        },
        "outputId": "b7b0e7a7-8b0d-45ed-9f88-e1c8ee01bc11"
      },
      "execution_count": null,
      "outputs": [
        {
          "output_type": "execute_result",
          "data": {
            "text/plain": [
              "(4812, 1)"
            ]
          },
          "metadata": {},
          "execution_count": 14
        }
      ]
    },
    {
      "cell_type": "code",
      "source": [
        "X_test.shape"
      ],
      "metadata": {
        "id": "BsBvwDKY9cq3",
        "colab": {
          "base_uri": "https://localhost:8080/"
        },
        "outputId": "b69f37a7-abbb-4d42-adb0-be758041d6f5"
      },
      "execution_count": null,
      "outputs": [
        {
          "output_type": "execute_result",
          "data": {
            "text/plain": [
              "(15204, 370)"
            ]
          },
          "metadata": {},
          "execution_count": 15
        }
      ]
    },
    {
      "cell_type": "code",
      "source": [
        "Y_test.shape"
      ],
      "metadata": {
        "id": "7gmXmjK69mRx",
        "colab": {
          "base_uri": "https://localhost:8080/"
        },
        "outputId": "57fc8377-8e56-4235-e3b7-74e1b1b94150"
      },
      "execution_count": null,
      "outputs": [
        {
          "output_type": "execute_result",
          "data": {
            "text/plain": [
              "(15204, 1)"
            ]
          },
          "metadata": {},
          "execution_count": 16
        }
      ]
    },
    {
      "cell_type": "markdown",
      "source": [
        "Creating a decision tree classifier and training it\n",
        "Changes made over a default classifier:\n",
        "\n",
        "\n",
        "*   Splitting criterion changed to \"Entropy\" instead of \"Gini\"\n",
        "*   Max number of leaf nodes changed to 20\n",
        "\n"
      ],
      "metadata": {
        "id": "IhpFQvQBDlbB"
      }
    },
    {
      "cell_type": "code",
      "source": [
        "#GENETIC ALGORITHM FOR FEATURE SELECTION 25 ===================================================================================\n",
        "#===========================================================================================================================\n",
        "#https://pypi.org/project/sklearn-genetic/\n",
        "\n",
        "from genetic_selection import GeneticSelectionCV\n",
        "\n",
        "x = X_rus\n",
        "y = Y_rus\n",
        "\n",
        "clf = DecisionTreeClassifier()\n",
        "model = GeneticSelectionCV(\n",
        "    clf, cv=5, verbose=0,\n",
        "    scoring=\"accuracy\", max_features=25,\n",
        "    n_population=100, crossover_proba=0.5,\n",
        "    mutation_proba=0.2, n_generations=100,\n",
        "    crossover_independent_proba=0.5,\n",
        "    mutation_independent_proba=0.04,\n",
        "    tournament_size=3, n_gen_no_change=10,\n",
        "    caching=True, n_jobs=-1)\n",
        "model = model.fit(x, y)\n",
        "\n",
        "#Do feature selection using the genetic algo\n",
        "#Get column names\n",
        "print(model.get_support())\n",
        "\n",
        "#Get column names\n",
        "cols = model.get_support(indices=True) #get column indices\n",
        "print(\"\\n cols = \", cols, \"\\n\")\n",
        "\n",
        "features_df_new_ga = X_train.iloc[:,cols] #Get cols of X-Train with col names\n",
        "print(features_df_new_ga.shape)\n",
        "print (\"\\n features_df_new_ga= \", features_df_new_ga)\n",
        "#print(features_df_new.head())\n",
        "\n",
        "GA_25 = cols"
      ],
      "metadata": {
        "colab": {
          "base_uri": "https://localhost:8080/"
        },
        "id": "x7Jdy4AI2IkF",
        "outputId": "61746651-98ca-4d69-835d-9bb3cb9eaa5d"
      },
      "execution_count": null,
      "outputs": [
        {
          "output_type": "stream",
          "name": "stderr",
          "text": [
            "/usr/local/lib/python3.7/dist-packages/sklearn/utils/validation.py:993: DataConversionWarning: A column-vector y was passed when a 1d array was expected. Please change the shape of y to (n_samples, ), for example using ravel().\n",
            "  y = column_or_1d(y, warn=True)\n"
          ]
        },
        {
          "output_type": "stream",
          "name": "stdout",
          "text": [
            "[False False  True False False False False False False False False False\n",
            " False False False False False False False False False False False False\n",
            " False False False False False False False False False False False False\n",
            " False False False False False False False False False False False False\n",
            "  True False False False False False False False False False False False\n",
            " False False False False False False False False False False False False\n",
            " False False False False  True False False False False  True False False\n",
            " False False False False False False False False False False False False\n",
            " False False False False False False False False False False False False\n",
            " False False False False False False  True False False False False False\n",
            " False False False False False False False False False False False False\n",
            " False False False False False False False False False  True False False\n",
            " False False False False False False False  True False False False False\n",
            " False False False False False False False False  True False False False\n",
            "  True False False False False False False False False False False False\n",
            " False False False  True False False False  True False False False  True\n",
            " False False False False False False False False False False False False\n",
            " False False False False False False False False False False False False\n",
            " False False False False False False False False False False False False\n",
            " False False False False False False False False False False False False\n",
            " False False False False False False False False False False False False\n",
            " False False False False False  True False False False False False False\n",
            " False False False False False False  True False False False False False\n",
            " False False False False False False False False False False False False\n",
            " False False False False False False False  True False False False False\n",
            " False False False False False False False False False False False  True\n",
            " False False False False  True False False False False False False False\n",
            " False False False False False False False False False False False False\n",
            " False False False False False False False False False False  True False\n",
            " False False False False False False False False False False False False\n",
            " False False False False False False False False False False]\n",
            "\n",
            " cols =  [  2  48  76  81 114 141 151 164 168 183 187 191 257 270 295 311 316 346] \n",
            "\n",
            "(60816, 18)\n",
            "\n",
            " features_df_new_ga=         var15  ind_var20  ind_var37  ind_var41  num_var24_0  num_var31  \\\n",
            "18511     28          0          0          0            0          0   \n",
            "35536     23          0          0          0            0          0   \n",
            "70256     24          0          0          0            0          0   \n",
            "44704     42          0          1          0            0          0   \n",
            "43542     62          0          0          0            0          0   \n",
            "...      ...        ...        ...        ...          ...        ...   \n",
            "26903     26          0          0          0            0          0   \n",
            "3965      47          0          0          0            0          0   \n",
            "47917     35          0          0          0            0          0   \n",
            "14037     27          0          0          0            0          0   \n",
            "4451      41          0          0          0            0          0   \n",
            "\n",
            "       num_var37  saldo_var1  saldo_var12  saldo_var30  saldo_var34  \\\n",
            "18511          0         0.0          0.0         0.00            0   \n",
            "35536          0         0.0          0.0         0.00            0   \n",
            "70256          0         0.0          0.0         3.00            0   \n",
            "44704          3         0.0          0.0      1554.96            0   \n",
            "43542          0         0.0          0.0        15.00            0   \n",
            "...          ...         ...          ...          ...          ...   \n",
            "26903          0         0.0          0.0         0.00            0   \n",
            "3965           0         0.0          0.0       120.00            0   \n",
            "47917          0         0.0          0.0        15.36            0   \n",
            "14037          0         0.0          0.0         0.00            0   \n",
            "4451           0         0.0          0.0         2.37            0   \n",
            "\n",
            "       saldo_var42  ind_var9_cte_ult1  num_var7_emit_ult1  \\\n",
            "18511         0.00                  0                   0   \n",
            "35536         0.00                  0                   0   \n",
            "70256         3.00                  0                   0   \n",
            "44704      1554.96                  1                   0   \n",
            "43542        15.00                  0                   0   \n",
            "...            ...                ...                 ...   \n",
            "26903         0.00                  0                   0   \n",
            "3965        120.00                  0                   0   \n",
            "47917        15.36                  0                   0   \n",
            "14037         0.00                  0                   0   \n",
            "4451          2.37                  0                   0   \n",
            "\n",
            "       num_op_var40_comer_ult3  num_var43_emit_ult1  \\\n",
            "18511                        0                    0   \n",
            "35536                        0                    0   \n",
            "70256                        0                    0   \n",
            "44704                        0                    3   \n",
            "43542                        0                    0   \n",
            "...                        ...                  ...   \n",
            "26903                        0                    0   \n",
            "3965                         0                    0   \n",
            "47917                        0                    0   \n",
            "14037                        0                    0   \n",
            "4451                         0                    3   \n",
            "\n",
            "       num_trasp_var17_out_hace3  saldo_medio_var13_largo_hace3  \n",
            "18511                          0                            0.0  \n",
            "35536                          0                            0.0  \n",
            "70256                          0                            0.0  \n",
            "44704                          0                            0.0  \n",
            "43542                          0                            0.0  \n",
            "...                          ...                            ...  \n",
            "26903                          0                            0.0  \n",
            "3965                           0                            0.0  \n",
            "47917                          0                            0.0  \n",
            "14037                          0                            0.0  \n",
            "4451                           0                            0.0  \n",
            "\n",
            "[60816 rows x 18 columns]\n"
          ]
        }
      ]
    },
    {
      "cell_type": "code",
      "source": [
        "#GENETIC ALGORITHM FOR FEATURE SELECTION 50 ===================================================================================\n",
        "#===========================================================================================================================\n",
        "#https://pypi.org/project/sklearn-genetic/\n",
        "\n",
        "from genetic_selection import GeneticSelectionCV\n",
        "\n",
        "x = X_rus\n",
        "y = Y_rus\n",
        "\n",
        "clf = DecisionTreeClassifier()\n",
        "model = GeneticSelectionCV(\n",
        "    clf, cv=5, verbose=0,\n",
        "    scoring=\"accuracy\", max_features=50,\n",
        "    n_population=100, crossover_proba=0.5,\n",
        "    mutation_proba=0.2, n_generations=100,\n",
        "    crossover_independent_proba=0.5,\n",
        "    mutation_independent_proba=0.04,\n",
        "    tournament_size=3, n_gen_no_change=10,\n",
        "    caching=True, n_jobs=-1)\n",
        "model = model.fit(x, y)\n",
        "\n",
        "#Do feature selection using the genetic algo\n",
        "#Get column names\n",
        "print(model.get_support())\n",
        "\n",
        "#Get column names\n",
        "cols = model.get_support(indices=True) #get column indices\n",
        "print(\"\\n cols = \", cols, \"\\n\")\n",
        "\n",
        "features_df_new_ga = X_train.iloc[:,cols] #Get cols of X-Train with col names\n",
        "print(features_df_new_ga.shape)\n",
        "print (\"\\n features_df_new_ga= \", features_df_new_ga)\n",
        "#print(features_df_new.head())\n",
        "GA_50 = cols"
      ],
      "metadata": {
        "colab": {
          "base_uri": "https://localhost:8080/"
        },
        "id": "z5qL2pzB4NkT",
        "outputId": "acf12d5d-508a-44bc-cb4f-7fab2541201e"
      },
      "execution_count": null,
      "outputs": [
        {
          "output_type": "stream",
          "name": "stderr",
          "text": [
            "/usr/local/lib/python3.7/dist-packages/sklearn/utils/validation.py:993: DataConversionWarning: A column-vector y was passed when a 1d array was expected. Please change the shape of y to (n_samples, ), for example using ravel().\n",
            "  y = column_or_1d(y, warn=True)\n"
          ]
        },
        {
          "output_type": "stream",
          "name": "stdout",
          "text": [
            "[False False  True False False False False False False False False False\n",
            " False False False  True  True False False False False False False False\n",
            " False False False False False False False False False False False  True\n",
            " False False False  True False False  True False False False False False\n",
            " False False False False False False False False False False False  True\n",
            " False False False False  True False False False False False False False\n",
            " False False  True False False False False False False False  True False\n",
            " False False False False False False False False False False False False\n",
            " False False False False  True False False False False False False False\n",
            " False False False False False False False False False False False False\n",
            " False  True  True False False False False False False False False False\n",
            " False False  True False False  True False False False False False False\n",
            " False False False False  True False False False False False False False\n",
            " False False False  True False False False  True False False False False\n",
            " False False False False False False False False  True False False False\n",
            "  True False False False False False False  True False False False  True\n",
            " False False False False  True False  True False False False False False\n",
            " False False False  True False False False False False False False False\n",
            " False False False False  True False False  True False False False False\n",
            " False False False False False False False False False False False False\n",
            " False  True False False False False False  True False False False False\n",
            " False False False False False False False False False False False False\n",
            "  True False False False False False False  True False False False  True\n",
            " False False False False False False False  True False False False False\n",
            " False False False False False False False False False False False False\n",
            " False False False False False False  True  True False False False False\n",
            " False False False  True False False False False False False False False\n",
            " False False False False False False False False False False False False\n",
            " False False False False False  True  True False False False False False\n",
            " False False False False False False False False False False False False\n",
            " False False False False False False False False False False]\n",
            "\n",
            " cols =  [  2  15  16  35  39  42  59  64  74  82 100 121 122 134 137 148 159 163\n",
            " 176 180 187 191 196 198 207 220 223 241 247 264 271 275 283 306 307 315\n",
            " 341 342] \n",
            "\n",
            "(60816, 38)\n",
            "\n",
            " features_df_new_ga=         var15  imp_op_var41_ult1  imp_op_var39_efect_ult1  ind_var13_largo_0  \\\n",
            "18511     28               0.00                      0.0                  0   \n",
            "35536     23               0.00                      0.0                  0   \n",
            "70256     24               0.00                      0.0                  0   \n",
            "44704     42             153.45                      0.0                  0   \n",
            "43542     62               0.00                      0.0                  0   \n",
            "...      ...                ...                      ...                ...   \n",
            "26903     26               0.00                      0.0                  0   \n",
            "3965      47               0.00                      0.0                  0   \n",
            "47917     35               0.00                      0.0                  0   \n",
            "14037     27               0.00                      0.0                  0   \n",
            "4451      41               0.00                      0.0                  0   \n",
            "\n",
            "       ind_var13  ind_var17_0  ind_var28  ind_var30  ind_var37_cte  ind_var39  \\\n",
            "18511          0            0          0          0              0          0   \n",
            "35536          0            0          0          0              0          0   \n",
            "70256          0            0          0          1              0          0   \n",
            "44704          0            0          0          1              1          0   \n",
            "43542          0            0          0          1              0          0   \n",
            "...          ...          ...        ...        ...            ...        ...   \n",
            "26903          0            0          0          0              0          0   \n",
            "3965           0            0          0          1              0          0   \n",
            "47917          0            0          0          1              0          0   \n",
            "14037          0            0          0          0              0          0   \n",
            "4451           0            0          0          1              0          0   \n",
            "\n",
            "       ...  imp_trasp_var33_in_hace3  num_aport_var13_hace3  \\\n",
            "18511  ...                       0.0                      0   \n",
            "35536  ...                       0.0                      0   \n",
            "70256  ...                       0.0                      0   \n",
            "44704  ...                       0.0                      0   \n",
            "43542  ...                       0.0                      0   \n",
            "...    ...                       ...                    ...   \n",
            "26903  ...                       0.0                      0   \n",
            "3965   ...                       0.0                      0   \n",
            "47917  ...                       0.0                      0   \n",
            "14037  ...                       0.0                      0   \n",
            "4451   ...                       0.0                      0   \n",
            "\n",
            "       num_var7_recib_ult1  num_var22_hace2  num_meses_var12_ult3  \\\n",
            "18511                    0                0                     0   \n",
            "35536                    0                0                     0   \n",
            "70256                    0                0                     0   \n",
            "44704                    0                0                     0   \n",
            "43542                    0                0                     0   \n",
            "...                    ...              ...                   ...   \n",
            "26903                    0                0                     0   \n",
            "3965                     0                0                     0   \n",
            "47917                    0                3                     0   \n",
            "14037                    0                0                     0   \n",
            "4451                     0                3                     0   \n",
            "\n",
            "       num_reemb_var17_hace3  num_reemb_var17_ult1  num_trasp_var17_in_ult1  \\\n",
            "18511                      0                     0                        0   \n",
            "35536                      0                     0                        0   \n",
            "70256                      0                     0                        0   \n",
            "44704                      0                     0                        0   \n",
            "43542                      0                     0                        0   \n",
            "...                      ...                   ...                      ...   \n",
            "26903                      0                     0                        0   \n",
            "3965                       0                     0                        0   \n",
            "47917                      0                     0                        0   \n",
            "14037                      0                     0                        0   \n",
            "4451                       0                     0                        0   \n",
            "\n",
            "       saldo_medio_var13_corto_hace2  saldo_medio_var13_corto_hace3  \n",
            "18511                            0.0                            0.0  \n",
            "35536                            0.0                            0.0  \n",
            "70256                            0.0                            0.0  \n",
            "44704                            0.0                            0.0  \n",
            "43542                            0.0                            0.0  \n",
            "...                              ...                            ...  \n",
            "26903                            0.0                            0.0  \n",
            "3965                             0.0                            0.0  \n",
            "47917                            0.0                            0.0  \n",
            "14037                            0.0                            0.0  \n",
            "4451                             0.0                            0.0  \n",
            "\n",
            "[60816 rows x 38 columns]\n"
          ]
        }
      ]
    },
    {
      "cell_type": "code",
      "source": [
        "\n",
        "#K-BEST FEATURE Selection =================================================================================\n",
        "#====================================================================================================\n",
        "#Feature Selection\n",
        "fs = SelectKBest(f_classif, k=25)\n",
        "#fs = SelectKBest(chi2, k=10)\n",
        "fs.fit(X_rus, Y_rus)\n",
        "SelectKBest_25 = fs.get_support(True)\n",
        "print (\"25 Important Features\", SelectKBest_25)"
      ],
      "metadata": {
        "colab": {
          "base_uri": "https://localhost:8080/"
        },
        "id": "PLqojlkN2Xho",
        "outputId": "f42535ee-b7d9-4c35-f346-7d81876a16dd"
      },
      "execution_count": null,
      "outputs": [
        {
          "output_type": "stream",
          "name": "stdout",
          "text": [
            "25 Important Features [  2  25  30  31  32  33  34  39  50  64  89  91  97  98  99 100 105 115\n",
            " 139 148 159 183 194 281 284]\n"
          ]
        },
        {
          "output_type": "stream",
          "name": "stderr",
          "text": [
            "/usr/local/lib/python3.7/dist-packages/sklearn/utils/validation.py:993: DataConversionWarning: A column-vector y was passed when a 1d array was expected. Please change the shape of y to (n_samples, ), for example using ravel().\n",
            "  y = column_or_1d(y, warn=True)\n",
            "/usr/local/lib/python3.7/dist-packages/sklearn/feature_selection/_univariate_selection.py:112: UserWarning: Features [ 22  23  26  27  37  38  44  45  57  58  59  60  61  62  72  73  81  85\n",
            "  86  92  93 103 104 110 111 121 132 133 134 135 136 137 146 147 156 162\n",
            " 163 166 171 175 180 181 182 187 190 193 195 196 202 203 204 205 206 207\n",
            " 214 215 216 217 218 219 221 222 223 224 227 230 231 233 235 237 238 239\n",
            " 240 243 244 245 246 247 248 249 250 251 253 262 263 266 269 270 272 286\n",
            " 288 304 306 307 308 309 314 315 316 317 318 319 320 321 322 328 349 350\n",
            " 351 352 354 357 358 359 360 366] are constant.\n",
            "  warnings.warn(\"Features %s are constant.\" % constant_features_idx, UserWarning)\n",
            "/usr/local/lib/python3.7/dist-packages/sklearn/feature_selection/_univariate_selection.py:113: RuntimeWarning: invalid value encountered in true_divide\n",
            "  f = msb / msw\n"
          ]
        }
      ]
    },
    {
      "cell_type": "code",
      "source": [
        "\n",
        "#K-BEST FEATURE Selection of 50 features=================================================================================\n",
        "#====================================================================================================\n",
        "#Feature Selection\n",
        "fs = SelectKBest(f_classif, k=50)\n",
        "#fs = SelectKBest(chi2, k=10)\n",
        "fs.fit(X_rus, Y_rus)\n",
        "SelectKBest_50 = fs.get_support(True)\n",
        "print (\"50 Important Features\", SelectKBest_50)"
      ],
      "metadata": {
        "colab": {
          "base_uri": "https://localhost:8080/"
        },
        "id": "s5kKvBFU4-wc",
        "outputId": "67d78d71-71c6-49f4-d322-f7a77b53b16c"
      },
      "execution_count": null,
      "outputs": [
        {
          "output_type": "stream",
          "name": "stdout",
          "text": [
            "50 Important Features [  2  13  14  16  17  25  28  30  31  32  33  34  39  49  50  64  77  80\n",
            "  89  91  94  97  98  99 100 105 114 115 139 148 152 155 159 168 169 172\n",
            " 177 183 191 194 225 264 281 283 284 340 341 343 344 369]\n"
          ]
        },
        {
          "output_type": "stream",
          "name": "stderr",
          "text": [
            "/usr/local/lib/python3.7/dist-packages/sklearn/utils/validation.py:993: DataConversionWarning: A column-vector y was passed when a 1d array was expected. Please change the shape of y to (n_samples, ), for example using ravel().\n",
            "  y = column_or_1d(y, warn=True)\n",
            "/usr/local/lib/python3.7/dist-packages/sklearn/feature_selection/_univariate_selection.py:112: UserWarning: Features [ 22  23  26  27  37  38  44  45  57  58  59  60  61  62  72  73  81  85\n",
            "  86  92  93 103 104 110 111 121 132 133 134 135 136 137 146 147 156 162\n",
            " 163 166 171 175 180 181 182 187 190 193 195 196 202 203 204 205 206 207\n",
            " 214 215 216 217 218 219 221 222 223 224 227 230 231 233 235 237 238 239\n",
            " 240 243 244 245 246 247 248 249 250 251 253 262 263 266 269 270 272 286\n",
            " 288 304 306 307 308 309 314 315 316 317 318 319 320 321 322 328 349 350\n",
            " 351 352 354 357 358 359 360 366] are constant.\n",
            "  warnings.warn(\"Features %s are constant.\" % constant_features_idx, UserWarning)\n",
            "/usr/local/lib/python3.7/dist-packages/sklearn/feature_selection/_univariate_selection.py:113: RuntimeWarning: invalid value encountered in true_divide\n",
            "  f = msb / msw\n"
          ]
        }
      ]
    },
    {
      "cell_type": "code",
      "source": [
        "common_features_25 = []\n",
        "common_features_50 = []\n",
        "for i in SelectKBest_25:\n",
        "  if i in GA_25:\n",
        "    common_features_25.append(i)\n",
        "for i in SelectKBest_50:\n",
        "  if i in GA_50:\n",
        "    common_features_50.append(i)\n",
        "print(common_features_25, \"\\n\", common_features_50)\n"
      ],
      "metadata": {
        "colab": {
          "base_uri": "https://localhost:8080/"
        },
        "id": "Lt2oYVcE6GHW",
        "outputId": "c5a25f2e-9d5d-439c-dff0-c1a8009e8dbf"
      },
      "execution_count": null,
      "outputs": [
        {
          "output_type": "stream",
          "name": "stdout",
          "text": [
            "[2, 183] \n",
            " [2, 16, 39, 64, 100, 148, 159, 191, 264, 283, 341]\n"
          ]
        }
      ]
    },
    {
      "cell_type": "code",
      "source": [
        "# Getting only common columns\n",
        "X_rus_common25 = X_rus.iloc[:,[2, 183]]\n",
        "X_rus_common50 = X_rus.iloc[:, [2, 16, 39, 64, 100, 148, 159, 191, 264, 283, 341]]\n"
      ],
      "metadata": {
        "id": "3l0wN8Cq_Baw"
      },
      "execution_count": null,
      "outputs": []
    },
    {
      "cell_type": "code",
      "source": [
        "X_rus_common25 = X_rus.iloc[:, common_features_25]\n",
        "X_rus_common50 = X_rus.iloc[:, common_features_50]\n",
        "X_test25 = X_test.iloc[:,common_features_25]\n",
        "X_test50 = X_test.iloc[:,common_features_50]"
      ],
      "metadata": {
        "id": "1EEP4xcfr6qE"
      },
      "execution_count": null,
      "outputs": []
    },
    {
      "cell_type": "code",
      "source": [
        "X_rus_common50"
      ],
      "metadata": {
        "colab": {
          "base_uri": "https://localhost:8080/",
          "height": 424
        },
        "id": "EOPngVvw__Cg",
        "outputId": "0594e39a-bccf-4465-fd05-a59dbd8c13ad"
      },
      "execution_count": null,
      "outputs": [
        {
          "output_type": "execute_result",
          "data": {
            "text/plain": [
              "      var15  imp_op_var39_efect_ult1  ind_var13  ind_var30  num_var13_corto  \\\n",
              "0        63                      0.0          0          1                0   \n",
              "1        25                      0.0          0          1                0   \n",
              "2        69                      0.0          0          0                0   \n",
              "3        29                      0.0          0          1                0   \n",
              "4        26                      0.0          0          1                0   \n",
              "...     ...                      ...        ...        ...              ...   \n",
              "4807     35                    540.0          0          1                0   \n",
              "4808     24                    150.0          0          1                0   \n",
              "4809     38                      0.0          0          0                0   \n",
              "4810     47                   3750.0          0          1                0   \n",
              "4811     23                      0.0          0          0                0   \n",
              "\n",
              "      num_var35  num_var42  saldo_var42  num_aport_var13_hace3  \\\n",
              "0             6          6    120060.00                      0   \n",
              "1             3          3         3.00                      0   \n",
              "2             0          0         0.00                      0   \n",
              "3             3          3      3420.00                      0   \n",
              "4             6          3      9530.07                      0   \n",
              "...         ...        ...          ...                    ...   \n",
              "4807          6          3        63.00                      0   \n",
              "4808          6          3       150.00                      0   \n",
              "4809          0          0         0.00                      0   \n",
              "4810          9          3      1137.69                      0   \n",
              "4811          0          0         0.00                      0   \n",
              "\n",
              "      num_meses_var12_ult3  saldo_medio_var13_corto_hace2  \n",
              "0                        1                            0.0  \n",
              "1                        0                            0.0  \n",
              "2                        0                            0.0  \n",
              "3                        0                            0.0  \n",
              "4                        0                            0.0  \n",
              "...                    ...                            ...  \n",
              "4807                     0                            0.0  \n",
              "4808                     0                            0.0  \n",
              "4809                     0                            0.0  \n",
              "4810                     0                            0.0  \n",
              "4811                     0                            0.0  \n",
              "\n",
              "[4812 rows x 11 columns]"
            ],
            "text/html": [
              "\n",
              "  <div id=\"df-6170d4c8-d438-42b8-86e0-31654210e9ba\">\n",
              "    <div class=\"colab-df-container\">\n",
              "      <div>\n",
              "<style scoped>\n",
              "    .dataframe tbody tr th:only-of-type {\n",
              "        vertical-align: middle;\n",
              "    }\n",
              "\n",
              "    .dataframe tbody tr th {\n",
              "        vertical-align: top;\n",
              "    }\n",
              "\n",
              "    .dataframe thead th {\n",
              "        text-align: right;\n",
              "    }\n",
              "</style>\n",
              "<table border=\"1\" class=\"dataframe\">\n",
              "  <thead>\n",
              "    <tr style=\"text-align: right;\">\n",
              "      <th></th>\n",
              "      <th>var15</th>\n",
              "      <th>imp_op_var39_efect_ult1</th>\n",
              "      <th>ind_var13</th>\n",
              "      <th>ind_var30</th>\n",
              "      <th>num_var13_corto</th>\n",
              "      <th>num_var35</th>\n",
              "      <th>num_var42</th>\n",
              "      <th>saldo_var42</th>\n",
              "      <th>num_aport_var13_hace3</th>\n",
              "      <th>num_meses_var12_ult3</th>\n",
              "      <th>saldo_medio_var13_corto_hace2</th>\n",
              "    </tr>\n",
              "  </thead>\n",
              "  <tbody>\n",
              "    <tr>\n",
              "      <th>0</th>\n",
              "      <td>63</td>\n",
              "      <td>0.0</td>\n",
              "      <td>0</td>\n",
              "      <td>1</td>\n",
              "      <td>0</td>\n",
              "      <td>6</td>\n",
              "      <td>6</td>\n",
              "      <td>120060.00</td>\n",
              "      <td>0</td>\n",
              "      <td>1</td>\n",
              "      <td>0.0</td>\n",
              "    </tr>\n",
              "    <tr>\n",
              "      <th>1</th>\n",
              "      <td>25</td>\n",
              "      <td>0.0</td>\n",
              "      <td>0</td>\n",
              "      <td>1</td>\n",
              "      <td>0</td>\n",
              "      <td>3</td>\n",
              "      <td>3</td>\n",
              "      <td>3.00</td>\n",
              "      <td>0</td>\n",
              "      <td>0</td>\n",
              "      <td>0.0</td>\n",
              "    </tr>\n",
              "    <tr>\n",
              "      <th>2</th>\n",
              "      <td>69</td>\n",
              "      <td>0.0</td>\n",
              "      <td>0</td>\n",
              "      <td>0</td>\n",
              "      <td>0</td>\n",
              "      <td>0</td>\n",
              "      <td>0</td>\n",
              "      <td>0.00</td>\n",
              "      <td>0</td>\n",
              "      <td>0</td>\n",
              "      <td>0.0</td>\n",
              "    </tr>\n",
              "    <tr>\n",
              "      <th>3</th>\n",
              "      <td>29</td>\n",
              "      <td>0.0</td>\n",
              "      <td>0</td>\n",
              "      <td>1</td>\n",
              "      <td>0</td>\n",
              "      <td>3</td>\n",
              "      <td>3</td>\n",
              "      <td>3420.00</td>\n",
              "      <td>0</td>\n",
              "      <td>0</td>\n",
              "      <td>0.0</td>\n",
              "    </tr>\n",
              "    <tr>\n",
              "      <th>4</th>\n",
              "      <td>26</td>\n",
              "      <td>0.0</td>\n",
              "      <td>0</td>\n",
              "      <td>1</td>\n",
              "      <td>0</td>\n",
              "      <td>6</td>\n",
              "      <td>3</td>\n",
              "      <td>9530.07</td>\n",
              "      <td>0</td>\n",
              "      <td>0</td>\n",
              "      <td>0.0</td>\n",
              "    </tr>\n",
              "    <tr>\n",
              "      <th>...</th>\n",
              "      <td>...</td>\n",
              "      <td>...</td>\n",
              "      <td>...</td>\n",
              "      <td>...</td>\n",
              "      <td>...</td>\n",
              "      <td>...</td>\n",
              "      <td>...</td>\n",
              "      <td>...</td>\n",
              "      <td>...</td>\n",
              "      <td>...</td>\n",
              "      <td>...</td>\n",
              "    </tr>\n",
              "    <tr>\n",
              "      <th>4807</th>\n",
              "      <td>35</td>\n",
              "      <td>540.0</td>\n",
              "      <td>0</td>\n",
              "      <td>1</td>\n",
              "      <td>0</td>\n",
              "      <td>6</td>\n",
              "      <td>3</td>\n",
              "      <td>63.00</td>\n",
              "      <td>0</td>\n",
              "      <td>0</td>\n",
              "      <td>0.0</td>\n",
              "    </tr>\n",
              "    <tr>\n",
              "      <th>4808</th>\n",
              "      <td>24</td>\n",
              "      <td>150.0</td>\n",
              "      <td>0</td>\n",
              "      <td>1</td>\n",
              "      <td>0</td>\n",
              "      <td>6</td>\n",
              "      <td>3</td>\n",
              "      <td>150.00</td>\n",
              "      <td>0</td>\n",
              "      <td>0</td>\n",
              "      <td>0.0</td>\n",
              "    </tr>\n",
              "    <tr>\n",
              "      <th>4809</th>\n",
              "      <td>38</td>\n",
              "      <td>0.0</td>\n",
              "      <td>0</td>\n",
              "      <td>0</td>\n",
              "      <td>0</td>\n",
              "      <td>0</td>\n",
              "      <td>0</td>\n",
              "      <td>0.00</td>\n",
              "      <td>0</td>\n",
              "      <td>0</td>\n",
              "      <td>0.0</td>\n",
              "    </tr>\n",
              "    <tr>\n",
              "      <th>4810</th>\n",
              "      <td>47</td>\n",
              "      <td>3750.0</td>\n",
              "      <td>0</td>\n",
              "      <td>1</td>\n",
              "      <td>0</td>\n",
              "      <td>9</td>\n",
              "      <td>3</td>\n",
              "      <td>1137.69</td>\n",
              "      <td>0</td>\n",
              "      <td>0</td>\n",
              "      <td>0.0</td>\n",
              "    </tr>\n",
              "    <tr>\n",
              "      <th>4811</th>\n",
              "      <td>23</td>\n",
              "      <td>0.0</td>\n",
              "      <td>0</td>\n",
              "      <td>0</td>\n",
              "      <td>0</td>\n",
              "      <td>0</td>\n",
              "      <td>0</td>\n",
              "      <td>0.00</td>\n",
              "      <td>0</td>\n",
              "      <td>0</td>\n",
              "      <td>0.0</td>\n",
              "    </tr>\n",
              "  </tbody>\n",
              "</table>\n",
              "<p>4812 rows × 11 columns</p>\n",
              "</div>\n",
              "      <button class=\"colab-df-convert\" onclick=\"convertToInteractive('df-6170d4c8-d438-42b8-86e0-31654210e9ba')\"\n",
              "              title=\"Convert this dataframe to an interactive table.\"\n",
              "              style=\"display:none;\">\n",
              "        \n",
              "  <svg xmlns=\"http://www.w3.org/2000/svg\" height=\"24px\"viewBox=\"0 0 24 24\"\n",
              "       width=\"24px\">\n",
              "    <path d=\"M0 0h24v24H0V0z\" fill=\"none\"/>\n",
              "    <path d=\"M18.56 5.44l.94 2.06.94-2.06 2.06-.94-2.06-.94-.94-2.06-.94 2.06-2.06.94zm-11 1L8.5 8.5l.94-2.06 2.06-.94-2.06-.94L8.5 2.5l-.94 2.06-2.06.94zm10 10l.94 2.06.94-2.06 2.06-.94-2.06-.94-.94-2.06-.94 2.06-2.06.94z\"/><path d=\"M17.41 7.96l-1.37-1.37c-.4-.4-.92-.59-1.43-.59-.52 0-1.04.2-1.43.59L10.3 9.45l-7.72 7.72c-.78.78-.78 2.05 0 2.83L4 21.41c.39.39.9.59 1.41.59.51 0 1.02-.2 1.41-.59l7.78-7.78 2.81-2.81c.8-.78.8-2.07 0-2.86zM5.41 20L4 18.59l7.72-7.72 1.47 1.35L5.41 20z\"/>\n",
              "  </svg>\n",
              "      </button>\n",
              "      \n",
              "  <style>\n",
              "    .colab-df-container {\n",
              "      display:flex;\n",
              "      flex-wrap:wrap;\n",
              "      gap: 12px;\n",
              "    }\n",
              "\n",
              "    .colab-df-convert {\n",
              "      background-color: #E8F0FE;\n",
              "      border: none;\n",
              "      border-radius: 50%;\n",
              "      cursor: pointer;\n",
              "      display: none;\n",
              "      fill: #1967D2;\n",
              "      height: 32px;\n",
              "      padding: 0 0 0 0;\n",
              "      width: 32px;\n",
              "    }\n",
              "\n",
              "    .colab-df-convert:hover {\n",
              "      background-color: #E2EBFA;\n",
              "      box-shadow: 0px 1px 2px rgba(60, 64, 67, 0.3), 0px 1px 3px 1px rgba(60, 64, 67, 0.15);\n",
              "      fill: #174EA6;\n",
              "    }\n",
              "\n",
              "    [theme=dark] .colab-df-convert {\n",
              "      background-color: #3B4455;\n",
              "      fill: #D2E3FC;\n",
              "    }\n",
              "\n",
              "    [theme=dark] .colab-df-convert:hover {\n",
              "      background-color: #434B5C;\n",
              "      box-shadow: 0px 1px 3px 1px rgba(0, 0, 0, 0.15);\n",
              "      filter: drop-shadow(0px 1px 2px rgba(0, 0, 0, 0.3));\n",
              "      fill: #FFFFFF;\n",
              "    }\n",
              "  </style>\n",
              "\n",
              "      <script>\n",
              "        const buttonEl =\n",
              "          document.querySelector('#df-6170d4c8-d438-42b8-86e0-31654210e9ba button.colab-df-convert');\n",
              "        buttonEl.style.display =\n",
              "          google.colab.kernel.accessAllowed ? 'block' : 'none';\n",
              "\n",
              "        async function convertToInteractive(key) {\n",
              "          const element = document.querySelector('#df-6170d4c8-d438-42b8-86e0-31654210e9ba');\n",
              "          const dataTable =\n",
              "            await google.colab.kernel.invokeFunction('convertToInteractive',\n",
              "                                                     [key], {});\n",
              "          if (!dataTable) return;\n",
              "\n",
              "          const docLinkHtml = 'Like what you see? Visit the ' +\n",
              "            '<a target=\"_blank\" href=https://colab.research.google.com/notebooks/data_table.ipynb>data table notebook</a>'\n",
              "            + ' to learn more about interactive tables.';\n",
              "          element.innerHTML = '';\n",
              "          dataTable['output_type'] = 'display_data';\n",
              "          await google.colab.output.renderOutput(dataTable, element);\n",
              "          const docLink = document.createElement('div');\n",
              "          docLink.innerHTML = docLinkHtml;\n",
              "          element.appendChild(docLink);\n",
              "        }\n",
              "      </script>\n",
              "    </div>\n",
              "  </div>\n",
              "  "
            ]
          },
          "metadata": {},
          "execution_count": 32
        }
      ]
    },
    {
      "cell_type": "markdown",
      "source": [
        "# Random Forest Classifier with top 25 features and GA Hyperparameter tuning"
      ],
      "metadata": {
        "id": "PHIVEmV1GfEu"
      }
    },
    {
      "cell_type": "code",
      "source": [
        "# Top 25 RF Classifier\n",
        "clf = RandomForestClassifier()\n",
        "\n",
        "#mutation_adapter = ExponentialAdapter(initial_value=0.8, end_value=0.2, adaptive_rate=0.1)\n",
        "#crossover_adapter = ExponentialAdapter(initial_value=0.2, end_value=0.8, adaptive_rate=0.1)\n",
        "\n",
        "param_grid = {'min_weight_fraction_leaf': Continuous(0.01, 0.5, distribution='log-uniform'),\n",
        "              'bootstrap': Categorical([True, False]),\n",
        "              'max_depth': Integer(2, 30),\n",
        "              'max_leaf_nodes': Integer(2, 35),\n",
        "              'n_estimators': Integer(100, 300)}\n",
        "\n",
        "cv = StratifiedKFold(n_splits=3, shuffle=True)\n",
        "\n",
        "evolved_estimator = GASearchCV(estimator=clf,\n",
        "                               cv=cv,\n",
        "                               scoring='accuracy',\n",
        "                               population_size=20,\n",
        "                               generations=25,\n",
        "                              #  mutation_probability=mutation_adapter,\n",
        "                              #  crossover_probability=crossover_adapter,\n",
        "                               param_grid=param_grid,\n",
        "                               n_jobs=-1)\n",
        "\n",
        "# Train and optimize the estimator\n",
        "evolved_estimator.fit(X_rus_common25, Y_rus)\n",
        "# Best parameters found\n",
        "print(evolved_estimator.best_params_)\n",
        "# Use the model fitted with the best parameters\n",
        "y_predict_ga = evolved_estimator.predict(X_test25)\n",
        "print(accuracy_score(Y_test, y_predict_ga))\n",
        "\n",
        "# Saved metadata for further analysis\n",
        "print(\"Stats achieved in each generation: \", evolved_estimator.history)\n",
        "print(\"Best k solutions: \", evolved_estimator.hof)"
      ],
      "metadata": {
        "colab": {
          "base_uri": "https://localhost:8080/"
        },
        "id": "w7xb713t-ovT",
        "outputId": "c0155936-6f7b-4b6f-f788-0bbec5a5e4ad"
      },
      "execution_count": null,
      "outputs": [
        {
          "output_type": "stream",
          "name": "stderr",
          "text": [
            "/usr/local/lib/python3.7/dist-packages/deap/creator.py:141: RuntimeWarning: A class named 'Individual' has already been created and it will be overwritten. Consider deleting previous creation of that class or rename it.\n",
            "  RuntimeWarning)\n"
          ]
        },
        {
          "output_type": "stream",
          "name": "stdout",
          "text": [
            "gen\tnevals\tfitness \tfitness_std\tfitness_max\tfitness_min\n",
            "0  \t20    \t0.727785\t0.0322941  \t0.753533   \t0.651496   \n",
            "1  \t40    \t0.746945\t0.00771045 \t0.753533   \t0.717789   \n",
            "2  \t40    \t0.75159 \t0.00140835 \t0.753948   \t0.749377   \n",
            "3  \t40    \t0.75214 \t0.00173633 \t0.753948   \t0.746467   \n",
            "4  \t40    \t0.752805\t0.00107683 \t0.754364   \t0.750831   \n",
            "5  \t40    \t0.752972\t0.00122786 \t0.75478    \t0.750831   \n",
            "6  \t40    \t0.752941\t0.0010313  \t0.75478    \t0.751455   \n",
            "7  \t40    \t0.75267 \t0.00155135 \t0.75478    \t0.748753   \n",
            "8  \t40    \t0.753086\t0.00152609 \t0.75478    \t0.749169   \n",
            "9  \t40    \t0.753128\t0.00157236 \t0.75478    \t0.749169   \n",
            "10 \t40    \t0.753232\t0.00195331 \t0.756027   \t0.747298   \n",
            "11 \t40    \t0.752982\t0.00135203 \t0.756027   \t0.750416   \n",
            "12 \t40    \t0.753377\t0.00129259 \t0.754988   \t0.750831   \n",
            "13 \t40    \t0.753315\t0.00135075 \t0.754988   \t0.750416   \n",
            "14 \t40    \t0.753813\t0.00102289 \t0.754988   \t0.751455   \n",
            "15 \t40    \t0.753834\t0.00149781 \t0.754988   \t0.749169   \n",
            "16 \t40    \t0.753512\t0.00185746 \t0.754988   \t0.74813    \n",
            "17 \t40    \t0.753876\t0.00127136 \t0.754988   \t0.750416   \n",
            "18 \t40    \t0.754458\t0.000885284\t0.755403   \t0.752494   \n",
            "19 \t40    \t0.754011\t0.00155527 \t0.755403   \t0.749584   \n",
            "20 \t40    \t0.753522\t0.00171931 \t0.755403   \t0.749792   \n",
            "21 \t40    \t0.753221\t0.00163962 \t0.755403   \t0.748961   \n",
            "22 \t40    \t0.752431\t0.00208757 \t0.755611   \t0.747298   \n",
            "23 \t40    \t0.753273\t0.00155357 \t0.755611   \t0.749792   \n",
            "24 \t40    \t0.752691\t0.00225693 \t0.755611   \t0.747298   \n",
            "25 \t40    \t0.753076\t0.00159435 \t0.755611   \t0.750623   \n"
          ]
        },
        {
          "output_type": "stream",
          "name": "stderr",
          "text": [
            "/usr/local/lib/python3.7/dist-packages/sklearn_genetic/genetic_search.py:555: DataConversionWarning: A column-vector y was passed when a 1d array was expected. Please change the shape of y to (n_samples,), for example using ravel().\n",
            "  self.estimator.fit(self.X_, self.y_)\n"
          ]
        },
        {
          "output_type": "stream",
          "name": "stdout",
          "text": [
            "{'min_weight_fraction_leaf': 0.01278039135922495, 'bootstrap': True, 'max_depth': 13, 'max_leaf_nodes': 25, 'n_estimators': 261}\n",
            "0.7551960010523546\n",
            "Stats achieved in each generation:  {'gen': [0, 1, 2, 3, 4, 5, 6, 7, 8, 9, 10, 11, 12, 13, 14, 15, 16, 17, 18, 19, 20, 21, 22, 23, 24, 25], 'fitness': [0.7277847049044056, 0.7469451371571073, 0.7515897755610973, 0.7521404821280132, 0.7528054862842892, 0.7529717373233583, 0.7529405652535328, 0.7526704073150458, 0.7530860349127181, 0.7531275976724854, 0.7532315045719036, 0.7529821280133, 0.7533769742310888, 0.753314630091438, 0.753813383208645, 0.7538341645885286, 0.7535120532003325, 0.7538757273482959, 0.7544576059850372, 0.7540108063175394, 0.7535224438902742, 0.7532211138819618, 0.7524314214463841, 0.7532730673316708, 0.7526911886949293, 0.7530756442227765], 'fitness_std': [0.03229408380542457, 0.007710452061488375, 0.0014083506036154196, 0.0017363337236329175, 0.0010768284628455032, 0.001227861284016812, 0.001031298877865256, 0.0015513477552032016, 0.0015260878161488369, 0.0015723623792096729, 0.0019533115301051665, 0.0013520280147805946, 0.0012925867939135903, 0.0013507497276522527, 0.0010228894101961422, 0.0014978099359144851, 0.0018574647979682827, 0.0012713636518779945, 0.0008852843439099196, 0.001555274916215064, 0.0017193059912085182, 0.0016396232167559335, 0.0020875721022069926, 0.0015535732070205107, 0.002256933440146094, 0.0015943530988209976], 'fitness_max': [0.753532834580216, 0.753532834580216, 0.7539484621778887, 0.7539484621778887, 0.754364089775561, 0.7547797173732335, 0.7547797173732335, 0.7547797173732335, 0.7547797173732335, 0.7547797173732335, 0.7560266001662509, 0.7560266001662509, 0.7549875311720697, 0.7549875311720697, 0.7549875311720697, 0.7549875311720697, 0.7549875311720697, 0.7549875311720697, 0.7554031587697422, 0.7554031587697422, 0.7554031587697422, 0.7554031587697422, 0.7556109725685786, 0.7556109725685786, 0.7556109725685786, 0.7556109725685786], 'fitness_min': [0.6514962593516209, 0.7177888611803823, 0.7493765586034913, 0.746467165419784, 0.750831255195345, 0.750831255195345, 0.7514546965918537, 0.7487531172069826, 0.749168744804655, 0.749168744804655, 0.7472984206151289, 0.7504156275976724, 0.750831255195345, 0.7504156275976724, 0.7514546965918537, 0.749168744804655, 0.7481296758104738, 0.7504156275976724, 0.7524937655860349, 0.7495843724023276, 0.7497921862011637, 0.7489609310058188, 0.7472984206151289, 0.7497921862011637, 0.7472984206151289, 0.7506234413965087]}\n",
            "Best k solutions:  {0: {'min_weight_fraction_leaf': 0.01278039135922495, 'bootstrap': True, 'max_depth': 13, 'max_leaf_nodes': 25, 'n_estimators': 261}}\n"
          ]
        }
      ]
    },
    {
      "cell_type": "code",
      "source": [
        "tuned_params = evolved_estimator.best_params_\n",
        "print(tuned_params)"
      ],
      "metadata": {
        "colab": {
          "base_uri": "https://localhost:8080/"
        },
        "id": "l4xFkshW99qx",
        "outputId": "00426b71-b5da-40ca-a67a-2c0b205f3bc1"
      },
      "execution_count": null,
      "outputs": [
        {
          "output_type": "stream",
          "name": "stdout",
          "text": [
            "{'min_weight_fraction_leaf': 0.01278039135922495, 'bootstrap': True, 'max_depth': 13, 'max_leaf_nodes': 25, 'n_estimators': 261}\n"
          ]
        }
      ]
    },
    {
      "cell_type": "code",
      "source": [
        "# kaggle_test25 = test[['var15', 'num_var5', 'num_var30']]\n",
        "# kaggle_test50 = test[['var15', 'imp_op_var41_efect_ult1', 'imp_op_var39_efect_ult1',\n",
        "#        'imp_op_var39_ult1', 'ind_var13_0', 'num_var13_corto_0', 'num_var13',\n",
        "#        'saldo_var30', 'saldo_var42', 'var36']]\n",
        "\n",
        "kaggle_test25 = test.iloc[:, common_features_25]\n",
        "kaggle_test50 = test.iloc[:, common_features_50]"
      ],
      "metadata": {
        "id": "dZDQfqWX7lc3"
      },
      "execution_count": null,
      "outputs": []
    },
    {
      "cell_type": "code",
      "source": [
        "# Getting only common columns\n",
        "\n",
        "X_train_25_whole = X_train.iloc[:, common_features_25]\n",
        "X_train_50_whole = X_train.iloc[:, common_features_50]"
      ],
      "metadata": {
        "id": "6sd59pqZ8HUS"
      },
      "execution_count": null,
      "outputs": []
    },
    {
      "cell_type": "code",
      "source": [
        "#Using the parameters obtained from HyperParameterTuning in the RandomForestClassifier\n",
        "clf = RandomForestClassifier(**tuned_params, class_weight = \"balanced\")\n",
        "clf.fit(X_train_25_whole, Y_train)\n",
        "clf_predict = clf.predict(kaggle_test25)\n",
        "sample_submission = Xtest[[\"ID\"]]\n",
        "sample_submission['TARGET'] = clf_predict\n",
        "sample_submission.to_csv(\"/gdrive/My Drive/CIS508Ass4-2/RF25.csv\",index=False)"
      ],
      "metadata": {
        "colab": {
          "base_uri": "https://localhost:8080/"
        },
        "id": "rOfLGB9X6_eN",
        "outputId": "874f552d-3c25-4229-9cff-336e0395575d"
      },
      "execution_count": null,
      "outputs": [
        {
          "output_type": "stream",
          "name": "stderr",
          "text": [
            "/usr/local/lib/python3.7/dist-packages/ipykernel_launcher.py:3: DataConversionWarning: A column-vector y was passed when a 1d array was expected. Please change the shape of y to (n_samples,), for example using ravel().\n",
            "  This is separate from the ipykernel package so we can avoid doing imports until\n",
            "/usr/local/lib/python3.7/dist-packages/ipykernel_launcher.py:6: SettingWithCopyWarning: \n",
            "A value is trying to be set on a copy of a slice from a DataFrame.\n",
            "Try using .loc[row_indexer,col_indexer] = value instead\n",
            "\n",
            "See the caveats in the documentation: https://pandas.pydata.org/pandas-docs/stable/user_guide/indexing.html#returning-a-view-versus-a-copy\n",
            "  \n"
          ]
        }
      ]
    },
    {
      "cell_type": "markdown",
      "source": [
        "## Random Forest Classifier with top 50 features and HPT"
      ],
      "metadata": {
        "id": "3nUmfx5rG2te"
      }
    },
    {
      "cell_type": "code",
      "source": [
        "# Top 50 RF Classifier\n",
        "clf = RandomForestClassifier()\n",
        "\n",
        "\n",
        "param_grid = {'min_weight_fraction_leaf': Continuous(0.01, 0.5, distribution='log-uniform'),\n",
        "              'bootstrap': Categorical([True, False]),\n",
        "              'max_depth': Integer(2, 30),\n",
        "              'max_leaf_nodes': Integer(2, 35),\n",
        "              'n_estimators': Integer(100, 300)}\n",
        "\n",
        "cv = StratifiedKFold(n_splits=3, shuffle=True)\n",
        "\n",
        "evolved_estimator = GASearchCV(estimator=clf,\n",
        "                               cv=cv,\n",
        "                               scoring='accuracy',\n",
        "                               population_size=20,\n",
        "                               generations=25,\n",
        "                               param_grid=param_grid,\n",
        "                               n_jobs=-1)\n",
        "\n",
        "# Train and optimize the estimator\n",
        "evolved_estimator.fit(X_rus_common50, Y_rus)\n",
        "# Best parameters found\n",
        "print(evolved_estimator.best_params_)\n",
        "# Use the model fitted with the best parameters\n",
        "y_predict_ga = evolved_estimator.predict(X_test50)\n",
        "print(accuracy_score(Y_test, y_predict_ga))\n",
        "\n",
        "# Saved metadata for further analysis\n",
        "print(\"Stats achieved in each generation: \", evolved_estimator.history)\n",
        "print(\"Best k solutions: \", evolved_estimator.hof)"
      ],
      "metadata": {
        "colab": {
          "base_uri": "https://localhost:8080/"
        },
        "id": "vI38FfarG12y",
        "outputId": "b2877d09-cb96-49ec-b82d-584950242e56"
      },
      "execution_count": null,
      "outputs": [
        {
          "output_type": "stream",
          "name": "stdout",
          "text": [
            "gen\tnevals\tfitness \tfitness_std\tfitness_max\tfitness_min\n",
            "0  \t20    \t0.701288\t0.0280788  \t0.752909   \t0.663549   \n",
            "1  \t40    \t0.733603\t0.0203735  \t0.753948   \t0.682253   \n",
            "2  \t40    \t0.748743\t0.008031   \t0.754988   \t0.732544   \n",
            "3  \t40    \t0.753658\t0.00262899 \t0.756442   \t0.744805   \n",
            "4  \t40    \t0.75479 \t0.00270276 \t0.757897   \t0.744805   \n",
            "5  \t40    \t0.75586 \t0.00130212 \t0.757897   \t0.753741   \n",
            "6  \t40    \t0.755881\t0.0014489  \t0.757897   \t0.752078   \n",
            "7  \t40    \t0.756099\t0.0014772  \t0.757897   \t0.753741   \n",
            "8  \t40    \t0.756058\t0.00158984 \t0.757897   \t0.751663   \n",
            "9  \t40    \t0.756608\t0.00122169 \t0.757897   \t0.754364   \n",
            "10 \t40    \t0.756297\t0.00159774 \t0.757897   \t0.752494   \n",
            "11 \t40    \t0.75612 \t0.0016514  \t0.757897   \t0.752494   \n",
            "12 \t40    \t0.756629\t0.00130592 \t0.757897   \t0.753533   \n",
            "13 \t40    \t0.756557\t0.00141935 \t0.757897   \t0.754156   \n",
            "14 \t40    \t0.756588\t0.00141268 \t0.757897   \t0.753948   \n",
            "15 \t40    \t0.756463\t0.00162161 \t0.757897   \t0.75187    \n",
            "16 \t40    \t0.756286\t0.00140774 \t0.759144   \t0.753325   \n",
            "17 \t40    \t0.75584 \t0.00154664 \t0.759144   \t0.753117   \n",
            "18 \t40    \t0.756172\t0.00116097 \t0.757897   \t0.753741   \n",
            "19 \t40    \t0.75639 \t0.00121331 \t0.757897   \t0.752702   \n",
            "20 \t40    \t0.756411\t0.00087003 \t0.757897   \t0.753948   \n",
            "21 \t40    \t0.756338\t0.00134599 \t0.758105   \t0.752909   \n",
            "22 \t40    \t0.753969\t0.00579234 \t0.758105   \t0.732959   \n",
            "23 \t40    \t0.755175\t0.00134181 \t0.75665    \t0.75187    \n",
            "24 \t40    \t0.755777\t0.000798395\t0.75665    \t0.753325   \n",
            "25 \t40    \t0.756089\t0.00132105 \t0.758936   \t0.751455   \n"
          ]
        },
        {
          "output_type": "stream",
          "name": "stderr",
          "text": [
            "/usr/local/lib/python3.7/dist-packages/sklearn_genetic/genetic_search.py:555: DataConversionWarning: A column-vector y was passed when a 1d array was expected. Please change the shape of y to (n_samples,), for example using ravel().\n",
            "  self.estimator.fit(self.X_, self.y_)\n"
          ]
        },
        {
          "output_type": "stream",
          "name": "stdout",
          "text": [
            "{'min_weight_fraction_leaf': 0.010623027867919058, 'bootstrap': True, 'max_depth': 25, 'max_leaf_nodes': 16, 'n_estimators': 235}\n",
            "0.7867666403578005\n",
            "Stats achieved in each generation:  {'gen': [0, 1, 2, 3, 4, 5, 6, 7, 8, 9, 10, 11, 12, 13, 14, 15, 16, 17, 18, 19, 20, 21, 22, 23, 24, 25], 'fitness': [0.7012884455527847, 0.7336034912718205, 0.7487427265170409, 0.7536575228595179, 0.7547901080631754, 0.7558603491271819, 0.7558811305070656, 0.7560993349958436, 0.7560577722360764, 0.7566084788029925, 0.7562967581047382, 0.7561201163757275, 0.7566292601828761, 0.7565565253532835, 0.7565876974231089, 0.756463009143807, 0.7562863674147963, 0.7558395677472983, 0.7561720698254365, 0.7563902743142145, 0.7564110556940982, 0.7563383208645054, 0.7539692435577721, 0.7551745635910224, 0.7557772236076474, 0.7560889443059018], 'fitness_std': [0.0280788204716404, 0.020373480220728216, 0.008030995109419795, 0.0026289882960712388, 0.002702758071409898, 0.0013021155609160419, 0.0014488959279761373, 0.0014771965568748798, 0.0015898434726529013, 0.0012216906447796636, 0.0015977354122215742, 0.0016514006915269947, 0.001305924134943086, 0.0014193469472593857, 0.0014126753449175016, 0.0016216135639983205, 0.00140773717706985, 0.0015466429415079003, 0.0011609707168298835, 0.0012133105022461854, 0.0008700302828524408, 0.0013459854459444216, 0.005792341343658571, 0.001341807851816976, 0.0007983945433208245, 0.0013210486346893432], 'fitness_max': [0.7529093931837073, 0.7539484621778886, 0.7549875311720697, 0.7564422277639236, 0.757896924355777, 0.757896924355777, 0.757896924355777, 0.7578969243557773, 0.7578969243557773, 0.7578969243557773, 0.7578969243557773, 0.7578969243557773, 0.7578969243557773, 0.7578969243557773, 0.7578969243557773, 0.7578969243557773, 0.7591438071487947, 0.7591438071487947, 0.7578969243557773, 0.7578969243557773, 0.7578969243557773, 0.7581047381546134, 0.7581047381546134, 0.7566500415627598, 0.7566500415627598, 0.7589359933499584], 'fitness_min': [0.663549459684123, 0.6822527015793849, 0.7325436408977556, 0.7448046550290939, 0.7448046550290939, 0.7537406483790524, 0.7520781379883624, 0.7537406483790524, 0.7516625103906899, 0.754364089775561, 0.7524937655860349, 0.7524937655860349, 0.753532834580216, 0.7541562759767247, 0.7539484621778886, 0.7518703241895262, 0.7533250207813799, 0.7531172069825436, 0.7537406483790524, 0.7527015793848711, 0.7539484621778886, 0.7529093931837073, 0.7329592684954281, 0.7518703241895262, 0.7533250207813799, 0.7514546965918537]}\n",
            "Best k solutions:  {0: {'min_weight_fraction_leaf': 0.010623027867919058, 'bootstrap': True, 'max_depth': 25, 'max_leaf_nodes': 16, 'n_estimators': 235}}\n"
          ]
        }
      ]
    },
    {
      "cell_type": "code",
      "source": [
        "tuned_params = evolved_estimator.best_params_\n",
        "print(tuned_params)"
      ],
      "metadata": {
        "colab": {
          "base_uri": "https://localhost:8080/"
        },
        "id": "n1CmE3DAHP1i",
        "outputId": "44977c44-a8d4-4dd9-b814-525880e4e799"
      },
      "execution_count": null,
      "outputs": [
        {
          "output_type": "stream",
          "name": "stdout",
          "text": [
            "{'min_weight_fraction_leaf': 0.010623027867919058, 'bootstrap': True, 'max_depth': 25, 'max_leaf_nodes': 16, 'n_estimators': 235}\n"
          ]
        }
      ]
    },
    {
      "cell_type": "code",
      "source": [
        "#Using the parameters obtained from HyperParameterTuning in the RandomForestClassifier\n",
        "clf = RandomForestClassifier(**tuned_params, class_weight = \"balanced\")\n",
        "clf.fit(X_train_50_whole, Y_train)\n",
        "clf_predict = clf.predict(kaggle_test50)\n",
        "sample_submission = Xtest[[\"ID\"]]\n",
        "sample_submission['TARGET'] = clf_predict\n",
        "sample_submission.to_csv(\"/gdrive/My Drive/CIS508Ass4-2/RF50.csv\",index=False)"
      ],
      "metadata": {
        "colab": {
          "base_uri": "https://localhost:8080/"
        },
        "id": "rpVwzyJ0HYcI",
        "outputId": "492af743-a929-4005-9dde-ea8e972b2117"
      },
      "execution_count": null,
      "outputs": [
        {
          "output_type": "stream",
          "name": "stderr",
          "text": [
            "/usr/local/lib/python3.7/dist-packages/ipykernel_launcher.py:3: DataConversionWarning: A column-vector y was passed when a 1d array was expected. Please change the shape of y to (n_samples,), for example using ravel().\n",
            "  This is separate from the ipykernel package so we can avoid doing imports until\n",
            "/usr/local/lib/python3.7/dist-packages/ipykernel_launcher.py:6: SettingWithCopyWarning: \n",
            "A value is trying to be set on a copy of a slice from a DataFrame.\n",
            "Try using .loc[row_indexer,col_indexer] = value instead\n",
            "\n",
            "See the caveats in the documentation: https://pandas.pydata.org/pandas-docs/stable/user_guide/indexing.html#returning-a-view-versus-a-copy\n",
            "  \n"
          ]
        }
      ]
    },
    {
      "cell_type": "markdown",
      "source": [
        "## Decision Tree Classifier top 25 features Hyperparameter tuning with GA"
      ],
      "metadata": {
        "id": "TAT4R2QiLoHl"
      }
    },
    {
      "cell_type": "code",
      "source": [
        "# Top 25 RF Classifier\n",
        "clf = DecisionTreeClassifier()\n",
        "\n",
        "#mutation_adapter = ExponentialAdapter(initial_value=0.8, end_value=0.2, adaptive_rate=0.1)\n",
        "#crossover_adapter = ExponentialAdapter(initial_value=0.2, end_value=0.8, adaptive_rate=0.1)\n",
        "\n",
        "param_grid = {'min_samples_split' : Integer(10,100),'max_depth': Integer(1,20)}\n",
        "\n",
        "cv = StratifiedKFold(n_splits=3, shuffle=True)\n",
        "\n",
        "evolved_estimator = GASearchCV(estimator=clf,\n",
        "                               cv=cv,\n",
        "                               scoring='accuracy',\n",
        "                               population_size=20,\n",
        "                               generations=25,\n",
        "                              #  mutation_probability=mutation_adapter,\n",
        "                              #  crossover_probability=crossover_adapter,\n",
        "                               param_grid=param_grid,\n",
        "                               n_jobs=-1)\n",
        "\n",
        "# Train and optimize the estimator\n",
        "evolved_estimator.fit(X_rus_common25, Y_rus)\n",
        "# Best parameters found\n",
        "print(evolved_estimator.best_params_)\n",
        "# Use the model fitted with the best parameters\n",
        "y_predict_ga = evolved_estimator.predict(X_test25)\n",
        "print(accuracy_score(Y_test, y_predict_ga))\n",
        "\n",
        "# Saved metadata for further analysis\n",
        "print(\"Stats achieved in each generation: \", evolved_estimator.history)\n",
        "print(\"Best k solutions: \", evolved_estimator.hof)"
      ],
      "metadata": {
        "colab": {
          "base_uri": "https://localhost:8080/"
        },
        "id": "t9EZrY4pLnxg",
        "outputId": "5de2276d-123f-4f6e-bf41-1a11133afc23"
      },
      "execution_count": null,
      "outputs": [
        {
          "output_type": "stream",
          "name": "stdout",
          "text": [
            "gen\tnevals\tfitness \tfitness_std\tfitness_max\tfitness_min\n",
            "0  \t20    \t0.735526\t0.00490778 \t0.748337   \t0.726309   \n",
            "1  \t40    \t0.741199\t0.00452456 \t0.750831   \t0.73192    \n",
            "2  \t40    \t0.743734\t0.00333169 \t0.746675   \t0.733791   \n",
            "3  \t40    \t0.745948\t0.00266982 \t0.75       \t0.740441   \n",
            "4  \t40    \t0.746893\t0.00287916 \t0.751663   \t0.740025   \n",
            "5  \t40    \t0.748275\t0.00155943 \t0.75187    \t0.745012   \n",
            "6  \t40    \t0.747984\t0.00177203 \t0.75187    \t0.744597   \n",
            "7  \t40    \t0.748566\t0.00253575 \t0.752286   \t0.742311   \n",
            "8  \t40    \t0.748639\t0.00335764 \t0.753117   \t0.741272   \n",
            "9  \t40    \t0.749273\t0.00194003 \t0.753117   \t0.744805   \n",
            "10 \t40    \t0.748971\t0.00190632 \t0.753117   \t0.74522    \n",
            "11 \t40    \t0.748639\t0.00282082 \t0.753117   \t0.740025   \n",
            "12 \t40    \t0.749075\t0.00153624 \t0.751039   \t0.744389   \n",
            "13 \t40    \t0.746166\t0.00489686 \t0.751039   \t0.733167   \n",
            "14 \t40    \t0.745542\t0.00515675 \t0.749792   \t0.730258   \n",
            "15 \t40    \t0.747911\t0.00246719 \t0.749792   \t0.740856   \n",
            "16 \t40    \t0.747911\t0.00225789 \t0.749792   \t0.742519   \n",
            "17 \t40    \t0.747745\t0.00262889 \t0.750208   \t0.742103   \n",
            "18 \t40    \t0.747267\t0.00256065 \t0.750208   \t0.741895   \n",
            "19 \t40    \t0.747745\t0.00268255 \t0.750831   \t0.74148    \n",
            "20 \t40    \t0.748982\t0.00182817 \t0.751039   \t0.744597   \n",
            "21 \t40    \t0.747309\t0.00358168 \t0.750831   \t0.737323   \n",
            "22 \t40    \t0.748452\t0.00168249 \t0.75187    \t0.744597   \n",
            "23 \t40    \t0.748514\t0.00228432 \t0.75187    \t0.74335    \n",
            "24 \t40    \t0.749158\t0.00159283 \t0.75187    \t0.74522    \n",
            "25 \t40    \t0.749034\t0.00214992 \t0.75187    \t0.743766   \n",
            "{'min_samples_split': 47, 'max_depth': 4}\n",
            "0.759010786635096\n",
            "Stats achieved in each generation:  {'gen': [0, 1, 2, 3, 4, 5, 6, 7, 8, 9, 10, 11, 12, 13, 14, 15, 16, 17, 18, 19, 20, 21, 22, 23, 24, 25], 'fitness': [0.7355257689110557, 0.7411990856192852, 0.7437344139650872, 0.7459476309226932, 0.746893183707398, 0.7482751454696592, 0.7479842061512885, 0.74856608478803, 0.7486388196176226, 0.7492726517040732, 0.7489713216957606, 0.7486388196176226, 0.7490752285951787, 0.7461658354114714, 0.7455423940149626, 0.7479114713216958, 0.7479114713216958, 0.7477452202826268, 0.7472672485453034, 0.7477452202826269, 0.7489817123857024, 0.7473088113050708, 0.74845178719867, 0.748514131338321, 0.7491583541147133, 0.7490336658354113], 'fitness_std': [0.004907783664845336, 0.004524557898240646, 0.0033316868704016747, 0.002669821005528854, 0.002879158749056619, 0.0015594345249172427, 0.001772031564980285, 0.0025357541579926588, 0.0033576401584823807, 0.0019400283529101357, 0.0019063164266976806, 0.00282081875966382, 0.0015362416335291751, 0.004896859993399413, 0.005156745638642065, 0.0024671926916933293, 0.0022578899908428573, 0.002628885624878401, 0.002560646346882141, 0.002682549351569278, 0.0018281709543214273, 0.003581684538506555, 0.0016824898287787664, 0.002284321756936077, 0.0015928287145936472, 0.0021499188715843284], 'fitness_max': [0.7483374896093101, 0.750831255195345, 0.74667497921862, 0.75, 0.7516625103906899, 0.7518703241895262, 0.7518703241895262, 0.7522859517871986, 0.7531172069825436, 0.7531172069825436, 0.7531172069825436, 0.7531172069825436, 0.7510390689941812, 0.7510390689941812, 0.7497921862011637, 0.7497921862011637, 0.7497921862011637, 0.7502078137988363, 0.7502078137988363, 0.750831255195345, 0.7510390689941812, 0.750831255195345, 0.7518703241895262, 0.7518703241895262, 0.7518703241895262, 0.7518703241895262], 'fitness_min': [0.7263092269326683, 0.7319201995012469, 0.733790523690773, 0.7404405652535329, 0.7400249376558602, 0.7450124688279303, 0.7445968412302578, 0.7423108894430591, 0.7412718204488778, 0.7448046550290939, 0.7452202826267665, 0.7400249376558602, 0.7443890274314214, 0.7331670822942643, 0.730257689110557, 0.7408561928512053, 0.7425187032418953, 0.7421030756442227, 0.7418952618453866, 0.741479634247714, 0.7445968412302578, 0.7373233582709892, 0.7445968412302576, 0.7433499584372404, 0.7452202826267665, 0.7437655860349127]}\n",
            "Best k solutions:  {0: {'min_samples_split': 47, 'max_depth': 4}}\n"
          ]
        }
      ]
    },
    {
      "cell_type": "code",
      "source": [
        "tuned_params = evolved_estimator.best_params_\n",
        "print(tuned_params)"
      ],
      "metadata": {
        "id": "D0C6-pZiMhZx",
        "colab": {
          "base_uri": "https://localhost:8080/"
        },
        "outputId": "6d60b37e-5d8e-4033-f883-4783cfcdfbcb"
      },
      "execution_count": null,
      "outputs": [
        {
          "output_type": "stream",
          "name": "stdout",
          "text": [
            "{'min_samples_split': 47, 'max_depth': 4}\n"
          ]
        }
      ]
    },
    {
      "cell_type": "code",
      "source": [
        "#Using the parameters obtained from HyperParameterTuning in the DTClassifier\n",
        "clf = DecisionTreeClassifier(**tuned_params, class_weight = \"balanced\")\n",
        "clf.fit(X_train_25_whole, Y_train)\n",
        "clf_predict = clf.predict(kaggle_test25)\n",
        "\n",
        "sample_submission = Xtest[[\"ID\"]]\n",
        "sample_submission['TARGET'] = clf_predict\n",
        "sample_submission.to_csv(\"/gdrive/My Drive/CIS508Ass4-2/DT25.csv\",index=False)"
      ],
      "metadata": {
        "id": "IHBsg_t9MhTO",
        "colab": {
          "base_uri": "https://localhost:8080/"
        },
        "outputId": "cec9bcaf-55d5-46d9-e8b3-035671907674"
      },
      "execution_count": null,
      "outputs": [
        {
          "output_type": "stream",
          "name": "stderr",
          "text": [
            "/usr/local/lib/python3.7/dist-packages/ipykernel_launcher.py:7: SettingWithCopyWarning: \n",
            "A value is trying to be set on a copy of a slice from a DataFrame.\n",
            "Try using .loc[row_indexer,col_indexer] = value instead\n",
            "\n",
            "See the caveats in the documentation: https://pandas.pydata.org/pandas-docs/stable/user_guide/indexing.html#returning-a-view-versus-a-copy\n",
            "  import sys\n"
          ]
        }
      ]
    },
    {
      "cell_type": "markdown",
      "source": [
        "## Decision Tree Classifier Top 50 features hyperparameter tuning using GA"
      ],
      "metadata": {
        "id": "WMpMEAppNHhS"
      }
    },
    {
      "cell_type": "code",
      "source": [
        "# Top 50 DT Classifier\n",
        "clf = DecisionTreeClassifier()\n",
        "\n",
        "#mutation_adapter = ExponentialAdapter(initial_value=0.8, end_value=0.2, adaptive_rate=0.1)\n",
        "#crossover_adapter = ExponentialAdapter(initial_value=0.2, end_value=0.8, adaptive_rate=0.1)\n",
        "\n",
        "param_grid = {'min_samples_split' : Integer(10,100),'max_depth': Integer(1,20)}\n",
        "\n",
        "cv = StratifiedKFold(n_splits=3, shuffle=True)\n",
        "\n",
        "evolved_estimator = GASearchCV(estimator=clf,\n",
        "                               cv=cv,\n",
        "                               scoring='accuracy',\n",
        "                               population_size=20,\n",
        "                               generations=25,\n",
        "                              #  mutation_probability=mutation_adapter,\n",
        "                              #  crossover_probability=crossover_adapter,\n",
        "                               param_grid=param_grid,\n",
        "                               n_jobs=-1)\n",
        "\n",
        "# Train and optimize the estimator\n",
        "evolved_estimator.fit(X_rus_common50, Y_rus)\n",
        "# Best parameters found\n",
        "print(evolved_estimator.best_params_)\n",
        "# Use the model fitted with the best parameters\n",
        "y_predict_ga = evolved_estimator.predict(X_test50)\n",
        "print(accuracy_score(Y_test, y_predict_ga))\n",
        "\n",
        "# Saved metadata for further analysis\n",
        "print(\"Stats achieved in each generation: \", evolved_estimator.history)\n",
        "print(\"Best k solutions: \", evolved_estimator.hof)"
      ],
      "metadata": {
        "id": "KMSvqEvPNGeK",
        "colab": {
          "base_uri": "https://localhost:8080/"
        },
        "outputId": "8e54897f-93c4-4a92-e9cd-60d17155b892"
      },
      "execution_count": null,
      "outputs": [
        {
          "output_type": "stream",
          "name": "stdout",
          "text": [
            "gen\tnevals\tfitness \tfitness_std\tfitness_max\tfitness_min\n",
            "0  \t20    \t0.738113\t0.0157011  \t0.748545   \t0.683084   \n",
            "1  \t40    \t0.745906\t0.00336703 \t0.750831   \t0.73857    \n",
            "2  \t40    \t0.744836\t0.00465812 \t0.753325   \t0.735661   \n",
            "3  \t40    \t0.747371\t0.00330435 \t0.753325   \t0.740648   \n",
            "4  \t40    \t0.746976\t0.00305739 \t0.753325   \t0.73857    \n",
            "5  \t40    \t0.747766\t0.00319647 \t0.75478    \t0.743766   \n",
            "6  \t40    \t0.749616\t0.0021976  \t0.752286   \t0.744805   \n",
            "7  \t40    \t0.749512\t0.00228527 \t0.751455   \t0.743766   \n",
            "8  \t40    \t0.749813\t0.00305981 \t0.754572   \t0.739817   \n",
            "9  \t40    \t0.75    \t0.00240472 \t0.754572   \t0.74335    \n",
            "10 \t40    \t0.749065\t0.0036165  \t0.752078   \t0.737116   \n",
            "11 \t40    \t0.750644\t0.00151988 \t0.754364   \t0.747714   \n",
            "12 \t40    \t0.749855\t0.00246336 \t0.754364   \t0.745636   \n",
            "13 \t40    \t0.749408\t0.00312984 \t0.752702   \t0.741272   \n",
            "14 \t40    \t0.748691\t0.00331468 \t0.752702   \t0.742103   \n",
            "15 \t40    \t0.749574\t0.00312515 \t0.752702   \t0.742934   \n",
            "16 \t40    \t0.749408\t0.00333687 \t0.752702   \t0.743142   \n",
            "17 \t40    \t0.749636\t0.00325073 \t0.752702   \t0.742727   \n",
            "18 \t40    \t0.750561\t0.00286986 \t0.752702   \t0.743766   \n",
            "19 \t40    \t0.750499\t0.00276978 \t0.752702   \t0.744597   \n",
            "20 \t40    \t0.751236\t0.00177371 \t0.753533   \t0.747091   \n",
            "21 \t40    \t0.750239\t0.00294647 \t0.753533   \t0.74335    \n",
            "22 \t40    \t0.750145\t0.00331272 \t0.752702   \t0.740025   \n",
            "23 \t40    \t0.749688\t0.00367161 \t0.752702   \t0.740233   \n",
            "24 \t40    \t0.750457\t0.0028845  \t0.752702   \t0.744805   \n",
            "25 \t40    \t0.751122\t0.0023561  \t0.752702   \t0.745428   \n",
            "{'min_samples_split': 95, 'max_depth': 7}\n",
            "0.7966324651407525\n",
            "Stats achieved in each generation:  {'gen': [0, 1, 2, 3, 4, 5, 6, 7, 8, 9, 10, 11, 12, 13, 14, 15, 16, 17, 18, 19, 20, 21, 22, 23, 24, 25], 'fitness': [0.7381130507065669, 0.745906068162926, 0.7448358270989195, 0.7473711554447215, 0.7469763092269328, 0.7477660016625105, 0.749615544472153, 0.7495116375727349, 0.7498129675810474, 0.7500000000000002, 0.7490648379052369, 0.7506442227763923, 0.7498545303408146, 0.7494077306733167, 0.7486907730673316, 0.7495739817123857, 0.7494077306733168, 0.7496363258520365, 0.7505610972568579, 0.750498753117207, 0.7512364921030755, 0.7502389858686617, 0.7501454696591854, 0.7496882793017456, 0.7504571903574397, 0.7511221945137156], 'fitness_std': [0.015701099235128926, 0.0033670324916418646, 0.0046581243976686355, 0.0033043537624568163, 0.0030573887861121943, 0.0031964673953722156, 0.0021976002171302, 0.002285266843655261, 0.0030598067898770336, 0.002404720855052761, 0.0036164975092950673, 0.001519884829860891, 0.0024633606417632558, 0.0031298407048613677, 0.0033146789501215823, 0.003125145751291594, 0.0033368677921662283, 0.0032507253139984695, 0.002869862664958585, 0.0027697767384116706, 0.0017737062951196862, 0.002946470635039311, 0.003312724040707739, 0.0036716058315284955, 0.0028844974496343868, 0.0023560989683790437], 'fitness_max': [0.7485453034081463, 0.750831255195345, 0.7533250207813799, 0.7533250207813799, 0.7533250207813799, 0.7547797173732337, 0.7522859517871986, 0.7514546965918537, 0.7545719035743973, 0.7545719035743973, 0.7520781379883624, 0.7543640897755611, 0.7543640897755611, 0.7527015793848711, 0.7527015793848711, 0.7527015793848711, 0.7527015793848713, 0.7527015793848711, 0.7527015793848711, 0.7527015793848711, 0.753532834580216, 0.753532834580216, 0.7527015793848711, 0.7527015793848711, 0.7527015793848711, 0.7527015793848711], 'fitness_min': [0.6830839567747299, 0.7385702410640066, 0.7356608478802992, 0.7406483790523691, 0.7385702410640067, 0.7437655860349127, 0.744804655029094, 0.7437655860349128, 0.7398171238570241, 0.7433499584372404, 0.7371155444721529, 0.7477140482128014, 0.7456359102244389, 0.7412718204488778, 0.7421030756442227, 0.7429343308395678, 0.743142144638404, 0.7427265170407314, 0.7437655860349128, 0.7445968412302576, 0.7470906068162927, 0.7433499584372402, 0.7400249376558604, 0.7402327514546966, 0.7448046550290939, 0.7454280964256026]}\n",
            "Best k solutions:  {0: {'min_samples_split': 95, 'max_depth': 7}}\n"
          ]
        }
      ]
    },
    {
      "cell_type": "code",
      "source": [
        "tuned_params = evolved_estimator.best_params_\n",
        "print(tuned_params)"
      ],
      "metadata": {
        "id": "lqRlh-yJNGeL",
        "colab": {
          "base_uri": "https://localhost:8080/"
        },
        "outputId": "ef315900-4135-4b94-8da6-8642f6198db5"
      },
      "execution_count": null,
      "outputs": [
        {
          "output_type": "stream",
          "name": "stdout",
          "text": [
            "{'min_samples_split': 95, 'max_depth': 7}\n"
          ]
        }
      ]
    },
    {
      "cell_type": "code",
      "source": [
        "#Using the parameters obtained from HyperParameterTuning in the RandomForestClassifier\n",
        "clf = DecisionTreeClassifier(**tuned_params, class_weight = \"balanced\")\n",
        "clf.fit(X_train_50_whole, Y_train)\n",
        "clf_predict = clf.predict(kaggle_test50)\n",
        "\n",
        "sample_submission = Xtest[[\"ID\"]]\n",
        "sample_submission['TARGET'] = clf_predict\n",
        "sample_submission.to_csv(\"/gdrive/My Drive/CIS508Ass4-2/DT50.csv\",index=False)"
      ],
      "metadata": {
        "id": "Y4Z_X1VhNGeL",
        "colab": {
          "base_uri": "https://localhost:8080/"
        },
        "outputId": "2f1e0f3e-ebf4-4332-9e99-d024a4382e1b"
      },
      "execution_count": null,
      "outputs": [
        {
          "output_type": "stream",
          "name": "stderr",
          "text": [
            "/usr/local/lib/python3.7/dist-packages/ipykernel_launcher.py:7: SettingWithCopyWarning: \n",
            "A value is trying to be set on a copy of a slice from a DataFrame.\n",
            "Try using .loc[row_indexer,col_indexer] = value instead\n",
            "\n",
            "See the caveats in the documentation: https://pandas.pydata.org/pandas-docs/stable/user_guide/indexing.html#returning-a-view-versus-a-copy\n",
            "  import sys\n"
          ]
        }
      ]
    },
    {
      "cell_type": "markdown",
      "source": [
        "## MLP Classifier with top 25 features and GA"
      ],
      "metadata": {
        "id": "DVyVpd7uto2W"
      }
    },
    {
      "cell_type": "code",
      "source": [
        "import itertools"
      ],
      "metadata": {
        "id": "HIMS9-EcwAnw"
      },
      "execution_count": null,
      "outputs": []
    },
    {
      "cell_type": "code",
      "source": [
        "# # Top 25 MLP Classifier\n",
        "\n",
        "\n",
        "param_grid = {'tol': Continuous(1e-2, 1e10, distribution='log-uniform'),\n",
        "              'alpha': Continuous(1e-5, 2e-5),\n",
        "              'activation': Categorical(['logistic', 'tanh']),\n",
        "              'batch_size': Integer(300, 350)\n",
        "             }\n",
        "# The base classifier to tune\n",
        "clf = MLPClassifier(hidden_layer_sizes=(50, 30))\n",
        "# Our cross-validation strategy (it could be just an int)\n",
        "cv = StratifiedKFold(n_splits=3, shuffle=True)\n",
        "# The main class from sklearn-genetic-opt\n",
        "evolved_estimator = GASearchCV(estimator=clf,\n",
        "                              cv=cv,\n",
        "                              scoring='accuracy',\n",
        "                              param_grid=param_grid,\n",
        "                              n_jobs=-1,\n",
        "                              verbose=True,\n",
        "                              population_size=20,\n",
        "                              generations=25)\n",
        "# Train and optimize the estimator\n",
        "evolved_estimator.fit(X_rus_common25, Y_rus)\n",
        "# Best parameters found\n",
        "print(evolved_estimator.best_params_)\n",
        "# Use the model fitted with the best parameters\n",
        "y_predict_ga = evolved_estimator.predict(X_test25)\n",
        "print(accuracy_score(Y_test, y_predict_ga))"
      ],
      "metadata": {
        "colab": {
          "base_uri": "https://localhost:8080/"
        },
        "id": "zEOBNC3UpPc9",
        "outputId": "a78012c8-22f2-4d3b-9abd-e6fa1f1044de"
      },
      "execution_count": null,
      "outputs": [
        {
          "output_type": "stream",
          "name": "stdout",
          "text": [
            "gen\tnevals\tfitness \tfitness_std\tfitness_max\tfitness_min\n",
            "0  \t20    \t0.678034\t0.0312041  \t0.732128   \t0.627805   \n",
            "1  \t40    \t0.700707\t0.0142005  \t0.732128   \t0.665628   \n",
            "2  \t40    \t0.712271\t0.00736215 \t0.732128   \t0.698878   \n",
            "3  \t40    \t0.710276\t0.0106644  \t0.732128   \t0.693267   \n",
            "4  \t40    \t0.712365\t0.00874274 \t0.732128   \t0.698462   \n",
            "5  \t40    \t0.7093  \t0.00918628 \t0.719867   \t0.689111   \n",
            "6  \t40    \t0.715752\t0.00537214 \t0.721945   \t0.704281   \n",
            "7  \t40    \t0.717955\t0.00786229 \t0.732751   \t0.703865   \n",
            "8  \t40    \t0.717062\t0.00702844 \t0.724439   \t0.6968     \n",
            "9  \t40    \t0.718153\t0.00622813 \t0.724439   \t0.699917   \n",
            "10 \t40    \t0.718288\t0.0098308  \t0.73857    \t0.697007   \n",
            "11 \t40    \t0.726787\t0.00756628 \t0.73857    \t0.715919   \n",
            "12 \t40    \t0.724595\t0.0103957  \t0.73857    \t0.705112   \n",
            "13 \t40    \t0.722839\t0.00766946 \t0.73857    \t0.708229   \n",
            "14 \t40    \t0.724304\t0.00848106 \t0.73857    \t0.701372   \n",
            "15 \t40    \t0.724075\t0.00663016 \t0.73857    \t0.714879   \n",
            "16 \t40    \t0.72473 \t0.00998294 \t0.738986   \t0.70345    \n",
            "17 \t40    \t0.727629\t0.00832405 \t0.738986   \t0.717997   \n",
            "18 \t40    \t0.723576\t0.0082049  \t0.738986   \t0.706775   \n",
            "19 \t40    \t0.724823\t0.00800185 \t0.738986   \t0.704073   \n",
            "20 \t40    \t0.724834\t0.00676079 \t0.738986   \t0.709892   \n",
            "21 \t40    \t0.727722\t0.00767382 \t0.738986   \t0.711554   \n",
            "22 \t40    \t0.723182\t0.00942808 \t0.735245   \t0.701787   \n",
            "23 \t40    \t0.723047\t0.00889873 \t0.735245   \t0.708437   \n",
            "24 \t40    \t0.720958\t0.0089333  \t0.735245   \t0.702411   \n",
            "25 \t40    \t0.721155\t0.0109027  \t0.738986   \t0.702618   \n"
          ]
        },
        {
          "output_type": "stream",
          "name": "stderr",
          "text": [
            "/usr/local/lib/python3.7/dist-packages/sklearn/neural_network/_multilayer_perceptron.py:1109: DataConversionWarning: A column-vector y was passed when a 1d array was expected. Please change the shape of y to (n_samples, ), for example using ravel().\n",
            "  y = column_or_1d(y, warn=True)\n"
          ]
        },
        {
          "output_type": "stream",
          "name": "stdout",
          "text": [
            "{'tol': 0.01331725042468669, 'alpha': 1.7133964093634217e-05, 'activation': 'tanh', 'batch_size': 304}\n",
            "0.8008418837148119\n"
          ]
        }
      ]
    },
    {
      "cell_type": "code",
      "source": [
        "tuned_params = evolved_estimator.best_params_\n",
        "print(tuned_params)"
      ],
      "metadata": {
        "colab": {
          "base_uri": "https://localhost:8080/"
        },
        "id": "fjo3GXQspPc-",
        "outputId": "2850699d-e88c-4331-a7f0-b554f51e68b3"
      },
      "execution_count": null,
      "outputs": [
        {
          "output_type": "stream",
          "name": "stdout",
          "text": [
            "{'tol': 0.01331725042468669, 'alpha': 1.7133964093634217e-05, 'activation': 'tanh', 'batch_size': 304}\n"
          ]
        }
      ]
    },
    {
      "cell_type": "code",
      "source": [
        "#Using the parameters obtained from HyperParameterTuning in the MLPClassifier\n",
        "clf = MLPClassifier(**tuned_params)\n",
        "clf.fit(X_train_25_whole, Y_train)\n",
        "clf_predict = clf.predict(kaggle_test25)\n",
        "\n",
        "sample_submission = Xtest[[\"ID\"]]\n",
        "sample_submission['TARGET'] = clf_predict\n",
        "sample_submission.to_csv(\"/gdrive/My Drive/CIS508Ass4-2/MLP25.csv\",index=False)"
      ],
      "metadata": {
        "colab": {
          "base_uri": "https://localhost:8080/"
        },
        "id": "yzanAmPFpPc-",
        "outputId": "3f4ea793-7e82-4701-c9c0-fa25e3554478"
      },
      "execution_count": null,
      "outputs": [
        {
          "output_type": "stream",
          "name": "stderr",
          "text": [
            "/usr/local/lib/python3.7/dist-packages/sklearn/neural_network/_multilayer_perceptron.py:1109: DataConversionWarning: A column-vector y was passed when a 1d array was expected. Please change the shape of y to (n_samples, ), for example using ravel().\n",
            "  y = column_or_1d(y, warn=True)\n",
            "/usr/local/lib/python3.7/dist-packages/ipykernel_launcher.py:7: SettingWithCopyWarning: \n",
            "A value is trying to be set on a copy of a slice from a DataFrame.\n",
            "Try using .loc[row_indexer,col_indexer] = value instead\n",
            "\n",
            "See the caveats in the documentation: https://pandas.pydata.org/pandas-docs/stable/user_guide/indexing.html#returning-a-view-versus-a-copy\n",
            "  import sys\n"
          ]
        }
      ]
    },
    {
      "cell_type": "markdown",
      "source": [
        "## MLP Classifier with top 50 features and GA"
      ],
      "metadata": {
        "id": "Zstz_3CjCXgX"
      }
    },
    {
      "cell_type": "code",
      "source": [
        "# # Top 50 LP Classifier\n",
        "\n",
        "\n",
        "\n",
        "param_grid = {'tol': Continuous(1e-2, 1e10, distribution='log-uniform'),\n",
        "              'alpha': Continuous(1e-5, 2e-5),\n",
        "              'activation': Categorical(['logistic', 'tanh']),\n",
        "              'batch_size': Integer(300, 350)\n",
        "             }\n",
        "# The base classifier to tune\n",
        "clf = MLPClassifier(hidden_layer_sizes=(50, 30))\n",
        "# Our cross-validation strategy (it could be just an int)\n",
        "cv = StratifiedKFold(n_splits=3, shuffle=True)\n",
        "# The main class from sklearn-genetic-opt\n",
        "evolved_estimator = GASearchCV(estimator=clf,\n",
        "                              cv=cv,\n",
        "                              scoring='accuracy',\n",
        "                              param_grid=param_grid,\n",
        "                              n_jobs=-1,\n",
        "                              verbose=True,\n",
        "                              population_size=20,\n",
        "                              generations=25)\n",
        "# Train and optimize the estimator\n",
        "evolved_estimator.fit(X_rus_common50, Y_rus)\n",
        "# Best parameters found\n",
        "print(evolved_estimator.best_params_)\n",
        "# Use the model fitted with the best parameters\n",
        "y_predict_ga = evolved_estimator.predict(X_test50)\n",
        "print(accuracy_score(Y_test, y_predict_ga))"
      ],
      "metadata": {
        "colab": {
          "base_uri": "https://localhost:8080/"
        },
        "outputId": "cbb891a1-96a2-42d1-822e-b0b6fe2ae9c1",
        "id": "MnDhdOesCXgY"
      },
      "execution_count": null,
      "outputs": [
        {
          "output_type": "stream",
          "name": "stdout",
          "text": [
            "gen\tnevals\tfitness \tfitness_std\tfitness_max\tfitness_min\n",
            "0  \t20    \t0.697257\t0.00329213 \t0.70345    \t0.690981   \n",
            "1  \t40    \t0.699938\t0.00197139 \t0.705528   \t0.697215   \n",
            "2  \t40    \t0.700488\t0.00211815 \t0.705528   \t0.696384   \n",
            "3  \t40    \t0.701985\t0.00322779 \t0.705943   \t0.6968     \n",
            "4  \t40    \t0.706047\t0.00576379 \t0.717165   \t0.699086   \n",
            "5  \t40    \t0.706297\t0.00498324 \t0.717165   \t0.701579   \n",
            "6  \t40    \t0.707949\t0.00552538 \t0.717165   \t0.701995   \n",
            "7  \t40    \t0.70824 \t0.00600703 \t0.717165   \t0.699293   \n",
            "8  \t40    \t0.705943\t0.00565849 \t0.716542   \t0.697423   \n",
            "9  \t40    \t0.709185\t0.00609975 \t0.716542   \t0.69867    \n",
            "10 \t40    \t0.710037\t0.00594947 \t0.716542   \t0.698462   \n",
            "11 \t40    \t0.709404\t0.00703114 \t0.716542   \t0.696592   \n",
            "12 \t40    \t0.709601\t0.00603033 \t0.716542   \t0.700333   \n",
            "13 \t40    \t0.71036 \t0.00637683 \t0.716542   \t0.697839   \n",
            "14 \t40    \t0.709549\t0.00638948 \t0.716542   \t0.697839   \n",
            "15 \t40    \t0.708209\t0.00729272 \t0.716542   \t0.698047   \n",
            "16 \t40    \t0.710256\t0.00743436 \t0.716542   \t0.697215   \n",
            "17 \t40    \t0.709414\t0.006807   \t0.716542   \t0.695553   \n",
            "18 \t40    \t0.706369\t0.00775663 \t0.716542   \t0.698047   \n",
            "19 \t40    \t0.707232\t0.00722092 \t0.716542   \t0.69867    \n",
            "20 \t40    \t0.706276\t0.00630378 \t0.716542   \t0.697631   \n",
            "21 \t40    \t0.708531\t0.00653193 \t0.716542   \t0.697631   \n",
            "22 \t40    \t0.706515\t0.00604873 \t0.716542   \t0.699086   \n",
            "23 \t40    \t0.70932 \t0.00603121 \t0.716542   \t0.700333   \n",
            "24 \t40    \t0.705019\t0.00579516 \t0.716542   \t0.698047   \n",
            "25 \t40    \t0.705351\t0.00490602 \t0.716542   \t0.699501   \n"
          ]
        },
        {
          "output_type": "stream",
          "name": "stderr",
          "text": [
            "/usr/local/lib/python3.7/dist-packages/sklearn/neural_network/_multilayer_perceptron.py:1109: DataConversionWarning: A column-vector y was passed when a 1d array was expected. Please change the shape of y to (n_samples, ), for example using ravel().\n",
            "  y = column_or_1d(y, warn=True)\n"
          ]
        },
        {
          "output_type": "stream",
          "name": "stdout",
          "text": [
            "{'tol': 2024.121909978109, 'alpha': 1.4359948108079394e-05, 'activation': 'tanh', 'batch_size': 302}\n",
            "0.6858063667455933\n"
          ]
        }
      ]
    },
    {
      "cell_type": "code",
      "source": [
        "tuned_params = evolved_estimator.best_params_\n",
        "print(tuned_params)"
      ],
      "metadata": {
        "colab": {
          "base_uri": "https://localhost:8080/"
        },
        "outputId": "b88cf22b-def7-474b-a56a-899832053adc",
        "id": "cuCE3eSgCXgY"
      },
      "execution_count": null,
      "outputs": [
        {
          "output_type": "stream",
          "name": "stdout",
          "text": [
            "{'tol': 2024.121909978109, 'alpha': 1.4359948108079394e-05, 'activation': 'tanh', 'batch_size': 302}\n"
          ]
        }
      ]
    },
    {
      "cell_type": "code",
      "source": [
        "#Using the parameters obtained from HyperParameterTuning in the MLPClassifier\n",
        "clf = MLPClassifier(**tuned_params)\n",
        "clf.fit(X_train_50_whole, Y_train)\n",
        "clf_predict = clf.predict(kaggle_test50)\n",
        "\n",
        "sample_submission = Xtest[[\"ID\"]]\n",
        "sample_submission['TARGET'] = clf_predict\n",
        "sample_submission.to_csv(\"/gdrive/My Drive/CIS508Ass4-2/MLP50.csv\",index=False)"
      ],
      "metadata": {
        "colab": {
          "base_uri": "https://localhost:8080/"
        },
        "outputId": "7eb2d6bc-b4fd-480b-962d-1e01b0ef81e1",
        "id": "ibt_SvfMCXgY"
      },
      "execution_count": null,
      "outputs": [
        {
          "output_type": "stream",
          "name": "stderr",
          "text": [
            "/usr/local/lib/python3.7/dist-packages/sklearn/neural_network/_multilayer_perceptron.py:1109: DataConversionWarning: A column-vector y was passed when a 1d array was expected. Please change the shape of y to (n_samples, ), for example using ravel().\n",
            "  y = column_or_1d(y, warn=True)\n",
            "/usr/local/lib/python3.7/dist-packages/ipykernel_launcher.py:7: SettingWithCopyWarning: \n",
            "A value is trying to be set on a copy of a slice from a DataFrame.\n",
            "Try using .loc[row_indexer,col_indexer] = value instead\n",
            "\n",
            "See the caveats in the documentation: https://pandas.pydata.org/pandas-docs/stable/user_guide/indexing.html#returning-a-view-versus-a-copy\n",
            "  import sys\n"
          ]
        }
      ]
    }
  ]
}